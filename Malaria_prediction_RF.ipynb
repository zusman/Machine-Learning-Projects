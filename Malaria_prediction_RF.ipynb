{
 "cells": [
  {
   "cell_type": "markdown",
   "id": "1e78dca7-ece6-421a-ab73-94882c611559",
   "metadata": {},
   "source": [
    "Predicting Malaria outcomes using hematological parameters based on Random Forest model\n",
    "\n",
    "The data used for this tutorial was obtained from this study: Morang’a, C.M., Amenga–Etego, L., Bah, S.Y. et al. Machine learning approaches classify clinical malaria outcomes based on haematological parameters. BMC Med 18, 375 (2020). https://doi.org/10.1186/s12916-020-01823-3"
   ]
  },
  {
   "cell_type": "code",
   "execution_count": 2,
   "id": "dca1e435-383b-48dd-ad80-4fb2330a6dfd",
   "metadata": {},
   "outputs": [],
   "source": [
    "#Import python libraries"
   ]
  },
  {
   "cell_type": "code",
   "execution_count": 1,
   "id": "3ce448ef-eb6c-4644-9972-2f45063954c9",
   "metadata": {
    "editable": true,
    "slideshow": {
     "slide_type": ""
    },
    "tags": []
   },
   "outputs": [],
   "source": [
    "#data handling\n",
    "import pandas as pd\n",
    "import numpy as np\n",
    "\n",
    "#data visualization\n",
    "import matplotlib.pyplot as plt\n",
    "import seaborn as sns\n",
    "\n",
    "#preprocessing\n",
    "from sklearn.model_selection import train_test_split\n",
    "from sklearn.preprocessing import LabelEncoder,label_binarize\n",
    "from sklearn.preprocessing import MinMaxScaler\n",
    "\n",
    "#classification\n",
    "import tensorflow as tf\n",
    "from tensorflow import keras\n",
    "from keras.models import Sequential\n",
    "from keras.layers import Dense\n"
   ]
  },
  {
   "cell_type": "markdown",
   "id": "58027dfb-c9e2-440b-ab35-a4b1b0a79c26",
   "metadata": {},
   "source": [
    "Reading the data"
   ]
  },
  {
   "cell_type": "code",
   "execution_count": 8,
   "id": "8e469156-c786-4d0d-abde-73fd5c48d074",
   "metadata": {},
   "outputs": [],
   "source": [
    "#setting the path of the data file.\n",
    "data_file='/Users/zainabusman/Home/Github/Git/malaria_clin_data.csv'\n",
    "\n",
    "#reading the data using pandas\n",
    "dataframe=pd.read_csv(data_file)"
   ]
  },
  {
   "cell_type": "markdown",
   "id": "681c83ac-ac82-4504-ac89-1ffc73ee5686",
   "metadata": {},
   "source": [
    "Data Overview & Cleaning\n",
    "i.e. Sample size, Symptoms, Clinical features."
   ]
  },
  {
   "cell_type": "code",
   "execution_count": 11,
   "id": "e957f6fe-7eea-4f9f-99a3-11086de53e49",
   "metadata": {},
   "outputs": [
    {
     "data": {
      "text/plain": [
       "(2207, 34)"
      ]
     },
     "execution_count": 11,
     "metadata": {},
     "output_type": "execute_result"
    }
   ],
   "source": [
    "#find the number of rows and columns in the dataframe\n",
    "dataframe.shape"
   ]
  },
  {
   "cell_type": "code",
   "execution_count": 13,
   "id": "f771f1fc-f8da-4eaa-b547-9e95e912ed15",
   "metadata": {},
   "outputs": [
    {
     "data": {
      "text/html": [
       "<div>\n",
       "<style scoped>\n",
       "    .dataframe tbody tr th:only-of-type {\n",
       "        vertical-align: middle;\n",
       "    }\n",
       "\n",
       "    .dataframe tbody tr th {\n",
       "        vertical-align: top;\n",
       "    }\n",
       "\n",
       "    .dataframe thead th {\n",
       "        text-align: right;\n",
       "    }\n",
       "</style>\n",
       "<table border=\"1\" class=\"dataframe\">\n",
       "  <thead>\n",
       "    <tr style=\"text-align: right;\">\n",
       "      <th></th>\n",
       "      <th>SampleID</th>\n",
       "      <th>consent_given</th>\n",
       "      <th>location</th>\n",
       "      <th>Enrollment_Year</th>\n",
       "      <th>bednet</th>\n",
       "      <th>fever_symptom</th>\n",
       "      <th>temperature</th>\n",
       "      <th>Suspected_Organism</th>\n",
       "      <th>Suspected_infection</th>\n",
       "      <th>RDT</th>\n",
       "      <th>...</th>\n",
       "      <th>platelet_count</th>\n",
       "      <th>platelet_distr_width</th>\n",
       "      <th>mean_platelet_vl</th>\n",
       "      <th>neutrophils_percent</th>\n",
       "      <th>lymphocytes_percent</th>\n",
       "      <th>mixed_cells_percent</th>\n",
       "      <th>neutrophils_count</th>\n",
       "      <th>lymphocytes_count</th>\n",
       "      <th>mixed_cells_count</th>\n",
       "      <th>RBC_dist_width_Percent</th>\n",
       "    </tr>\n",
       "  </thead>\n",
       "  <tbody>\n",
       "    <tr>\n",
       "      <th>0</th>\n",
       "      <td>CCS20043</td>\n",
       "      <td>yes</td>\n",
       "      <td>Navrongo</td>\n",
       "      <td>2004</td>\n",
       "      <td>NaN</td>\n",
       "      <td>Yes</td>\n",
       "      <td>38.0</td>\n",
       "      <td>Not Known / Missing entry</td>\n",
       "      <td>NaN</td>\n",
       "      <td>Positive</td>\n",
       "      <td>...</td>\n",
       "      <td>156.0</td>\n",
       "      <td>8.2</td>\n",
       "      <td>6.8</td>\n",
       "      <td>61.8</td>\n",
       "      <td>31.7</td>\n",
       "      <td>6.5</td>\n",
       "      <td>3.6</td>\n",
       "      <td>1.8</td>\n",
       "      <td>0.3</td>\n",
       "      <td>19.0</td>\n",
       "    </tr>\n",
       "    <tr>\n",
       "      <th>1</th>\n",
       "      <td>CCS20102</td>\n",
       "      <td>yes</td>\n",
       "      <td>Navrongo</td>\n",
       "      <td>2004</td>\n",
       "      <td>NaN</td>\n",
       "      <td>Yes</td>\n",
       "      <td>38.2</td>\n",
       "      <td>Not Known / Missing entry</td>\n",
       "      <td>NaN</td>\n",
       "      <td>Positive</td>\n",
       "      <td>...</td>\n",
       "      <td>55.0</td>\n",
       "      <td>16.5</td>\n",
       "      <td>7.6</td>\n",
       "      <td>68.5</td>\n",
       "      <td>23.6</td>\n",
       "      <td>7.9</td>\n",
       "      <td>5.4</td>\n",
       "      <td>1.8</td>\n",
       "      <td>0.6</td>\n",
       "      <td>14.4</td>\n",
       "    </tr>\n",
       "    <tr>\n",
       "      <th>2</th>\n",
       "      <td>CCS20106</td>\n",
       "      <td>yes</td>\n",
       "      <td>Navrongo</td>\n",
       "      <td>2004</td>\n",
       "      <td>NaN</td>\n",
       "      <td>Yes</td>\n",
       "      <td>37.7</td>\n",
       "      <td>Not Known / Missing entry</td>\n",
       "      <td>NaN</td>\n",
       "      <td>Positive</td>\n",
       "      <td>...</td>\n",
       "      <td>20.0</td>\n",
       "      <td>2.3</td>\n",
       "      <td>5.9</td>\n",
       "      <td>32.8</td>\n",
       "      <td>53.3</td>\n",
       "      <td>13.9</td>\n",
       "      <td>2.8</td>\n",
       "      <td>4.3</td>\n",
       "      <td>1.1</td>\n",
       "      <td>18.0</td>\n",
       "    </tr>\n",
       "    <tr>\n",
       "      <th>3</th>\n",
       "      <td>CCS20147</td>\n",
       "      <td>yes</td>\n",
       "      <td>Navrongo</td>\n",
       "      <td>2004</td>\n",
       "      <td>NaN</td>\n",
       "      <td>Yes</td>\n",
       "      <td>37.7</td>\n",
       "      <td>Not Known / Missing entry</td>\n",
       "      <td>NaN</td>\n",
       "      <td>Positive</td>\n",
       "      <td>...</td>\n",
       "      <td>132.0</td>\n",
       "      <td>17.2</td>\n",
       "      <td>6.2</td>\n",
       "      <td>82.6</td>\n",
       "      <td>11.5</td>\n",
       "      <td>5.9</td>\n",
       "      <td>13.2</td>\n",
       "      <td>1.8</td>\n",
       "      <td>0.9</td>\n",
       "      <td>13.7</td>\n",
       "    </tr>\n",
       "    <tr>\n",
       "      <th>4</th>\n",
       "      <td>CCS20170</td>\n",
       "      <td>yes</td>\n",
       "      <td>Navrongo</td>\n",
       "      <td>2004</td>\n",
       "      <td>NaN</td>\n",
       "      <td>Yes</td>\n",
       "      <td>37.1</td>\n",
       "      <td>Not Known / Missing entry</td>\n",
       "      <td>NaN</td>\n",
       "      <td>Positive</td>\n",
       "      <td>...</td>\n",
       "      <td>85.0</td>\n",
       "      <td>16.1</td>\n",
       "      <td>6.8</td>\n",
       "      <td>83.7</td>\n",
       "      <td>11.3</td>\n",
       "      <td>5.0</td>\n",
       "      <td>3.8</td>\n",
       "      <td>0.5</td>\n",
       "      <td>0.2</td>\n",
       "      <td>15.0</td>\n",
       "    </tr>\n",
       "  </tbody>\n",
       "</table>\n",
       "<p>5 rows × 34 columns</p>\n",
       "</div>"
      ],
      "text/plain": [
       "   SampleID consent_given  location  Enrollment_Year bednet fever_symptom  \\\n",
       "0  CCS20043           yes  Navrongo             2004    NaN           Yes   \n",
       "1  CCS20102           yes  Navrongo             2004    NaN           Yes   \n",
       "2  CCS20106           yes  Navrongo             2004    NaN           Yes   \n",
       "3  CCS20147           yes  Navrongo             2004    NaN           Yes   \n",
       "4  CCS20170           yes  Navrongo             2004    NaN           Yes   \n",
       "\n",
       "   temperature         Suspected_Organism Suspected_infection       RDT  ...  \\\n",
       "0         38.0  Not Known / Missing entry                 NaN  Positive  ...   \n",
       "1         38.2  Not Known / Missing entry                 NaN  Positive  ...   \n",
       "2         37.7  Not Known / Missing entry                 NaN  Positive  ...   \n",
       "3         37.7  Not Known / Missing entry                 NaN  Positive  ...   \n",
       "4         37.1  Not Known / Missing entry                 NaN  Positive  ...   \n",
       "\n",
       "  platelet_count platelet_distr_width mean_platelet_vl  neutrophils_percent  \\\n",
       "0          156.0                  8.2              6.8                 61.8   \n",
       "1           55.0                 16.5              7.6                 68.5   \n",
       "2           20.0                  2.3              5.9                 32.8   \n",
       "3          132.0                 17.2              6.2                 82.6   \n",
       "4           85.0                 16.1              6.8                 83.7   \n",
       "\n",
       "  lymphocytes_percent mixed_cells_percent neutrophils_count  \\\n",
       "0                31.7                 6.5               3.6   \n",
       "1                23.6                 7.9               5.4   \n",
       "2                53.3                13.9               2.8   \n",
       "3                11.5                 5.9              13.2   \n",
       "4                11.3                 5.0               3.8   \n",
       "\n",
       "   lymphocytes_count  mixed_cells_count  RBC_dist_width_Percent  \n",
       "0                1.8                0.3                    19.0  \n",
       "1                1.8                0.6                    14.4  \n",
       "2                4.3                1.1                    18.0  \n",
       "3                1.8                0.9                    13.7  \n",
       "4                0.5                0.2                    15.0  \n",
       "\n",
       "[5 rows x 34 columns]"
      ]
     },
     "execution_count": 13,
     "metadata": {},
     "output_type": "execute_result"
    }
   ],
   "source": [
    "#get the top rows of the table with the top 5 rows\n",
    "dataframe.head(n=5)\n"
   ]
  },
  {
   "cell_type": "code",
   "execution_count": 15,
   "id": "b5d85e98-4a0e-4369-bdbf-80cf7e52b4da",
   "metadata": {},
   "outputs": [
    {
     "data": {
      "text/plain": [
       "Index(['SampleID', 'consent_given', 'location', 'Enrollment_Year', 'bednet',\n",
       "       'fever_symptom', 'temperature', 'Suspected_Organism',\n",
       "       'Suspected_infection', 'RDT', 'Blood_culture', 'Urine_culture',\n",
       "       'Taq_man_PCR', 'parasite_density', 'Microscopy', 'Laboratory_Results',\n",
       "       'Clinical_Diagnosis', 'wbc_count', 'rbc_count', 'hb_level',\n",
       "       'hematocrit', 'mean_cell_volume', 'mean_corp_hb', 'mean_cell_hb_conc',\n",
       "       'platelet_count', 'platelet_distr_width', 'mean_platelet_vl',\n",
       "       'neutrophils_percent', 'lymphocytes_percent', 'mixed_cells_percent',\n",
       "       'neutrophils_count', 'lymphocytes_count', 'mixed_cells_count',\n",
       "       'RBC_dist_width_Percent'],\n",
       "      dtype='object')"
      ]
     },
     "execution_count": 15,
     "metadata": {},
     "output_type": "execute_result"
    }
   ],
   "source": [
    "# list the column names\n",
    "dataframe.columns\n"
   ]
  },
  {
   "cell_type": "code",
   "execution_count": 17,
   "id": "984334b2-5c9d-4df0-a442-f638b81bad66",
   "metadata": {},
   "outputs": [],
   "source": [
    "#we are interested in the columns : 'Clinical_diagnosis' up to 'RBC_dist_width_Percent'"
   ]
  },
  {
   "cell_type": "code",
   "execution_count": 19,
   "id": "d7284646-338d-4762-b178-c3d2e6e4619c",
   "metadata": {},
   "outputs": [
    {
     "name": "stdout",
     "output_type": "stream",
     "text": [
      "<class 'pandas.core.frame.DataFrame'>\n",
      "RangeIndex: 2207 entries, 0 to 2206\n",
      "Data columns (total 34 columns):\n",
      " #   Column                  Non-Null Count  Dtype  \n",
      "---  ------                  --------------  -----  \n",
      " 0   SampleID                2207 non-null   object \n",
      " 1   consent_given           2207 non-null   object \n",
      " 2   location                2207 non-null   object \n",
      " 3   Enrollment_Year         2207 non-null   int64  \n",
      " 4   bednet                  1676 non-null   object \n",
      " 5   fever_symptom           2200 non-null   object \n",
      " 6   temperature             2197 non-null   float64\n",
      " 7   Suspected_Organism      2207 non-null   object \n",
      " 8   Suspected_infection     1569 non-null   object \n",
      " 9   RDT                     2065 non-null   object \n",
      " 10  Blood_culture           122 non-null    object \n",
      " 11  Urine_culture           112 non-null    object \n",
      " 12  Taq_man_PCR             176 non-null    object \n",
      " 13  parasite_density        2173 non-null   float64\n",
      " 14  Microscopy              2170 non-null   object \n",
      " 15  Laboratory_Results      2207 non-null   object \n",
      " 16  Clinical_Diagnosis      2207 non-null   object \n",
      " 17  wbc_count               2207 non-null   float64\n",
      " 18  rbc_count               2207 non-null   float64\n",
      " 19  hb_level                2207 non-null   float64\n",
      " 20  hematocrit              2207 non-null   float64\n",
      " 21  mean_cell_volume        2207 non-null   float64\n",
      " 22  mean_corp_hb            2204 non-null   float64\n",
      " 23  mean_cell_hb_conc       2205 non-null   float64\n",
      " 24  platelet_count          2198 non-null   float64\n",
      " 25  platelet_distr_width    2175 non-null   float64\n",
      " 26  mean_platelet_vl        2190 non-null   float64\n",
      " 27  neutrophils_percent     2207 non-null   float64\n",
      " 28  lymphocytes_percent     2207 non-null   float64\n",
      " 29  mixed_cells_percent     2207 non-null   float64\n",
      " 30  neutrophils_count       2195 non-null   float64\n",
      " 31  lymphocytes_count       2196 non-null   float64\n",
      " 32  mixed_cells_count       2196 non-null   float64\n",
      " 33  RBC_dist_width_Percent  2198 non-null   float64\n",
      "dtypes: float64(19), int64(1), object(14)\n",
      "memory usage: 586.4+ KB\n"
     ]
    }
   ],
   "source": [
    "dataframe.info()"
   ]
  },
  {
   "cell_type": "code",
   "execution_count": 21,
   "id": "a0280ad7-df8b-41d4-b797-6d28e19506e6",
   "metadata": {},
   "outputs": [],
   "source": [
    "subset=dataframe.iloc[:,16:]"
   ]
  },
  {
   "cell_type": "code",
   "execution_count": 23,
   "id": "c0df3dae-6e22-4bf3-bc36-da0a54e83f3a",
   "metadata": {},
   "outputs": [
    {
     "data": {
      "text/html": [
       "<div>\n",
       "<style scoped>\n",
       "    .dataframe tbody tr th:only-of-type {\n",
       "        vertical-align: middle;\n",
       "    }\n",
       "\n",
       "    .dataframe tbody tr th {\n",
       "        vertical-align: top;\n",
       "    }\n",
       "\n",
       "    .dataframe thead th {\n",
       "        text-align: right;\n",
       "    }\n",
       "</style>\n",
       "<table border=\"1\" class=\"dataframe\">\n",
       "  <thead>\n",
       "    <tr style=\"text-align: right;\">\n",
       "      <th></th>\n",
       "      <th>Clinical_Diagnosis</th>\n",
       "      <th>wbc_count</th>\n",
       "      <th>rbc_count</th>\n",
       "      <th>hb_level</th>\n",
       "      <th>hematocrit</th>\n",
       "      <th>mean_cell_volume</th>\n",
       "      <th>mean_corp_hb</th>\n",
       "      <th>mean_cell_hb_conc</th>\n",
       "      <th>platelet_count</th>\n",
       "      <th>platelet_distr_width</th>\n",
       "      <th>mean_platelet_vl</th>\n",
       "      <th>neutrophils_percent</th>\n",
       "      <th>lymphocytes_percent</th>\n",
       "      <th>mixed_cells_percent</th>\n",
       "      <th>neutrophils_count</th>\n",
       "      <th>lymphocytes_count</th>\n",
       "      <th>mixed_cells_count</th>\n",
       "      <th>RBC_dist_width_Percent</th>\n",
       "    </tr>\n",
       "  </thead>\n",
       "  <tbody>\n",
       "    <tr>\n",
       "      <th>0</th>\n",
       "      <td>Severe Malaria</td>\n",
       "      <td>5.7</td>\n",
       "      <td>2.80</td>\n",
       "      <td>5.8</td>\n",
       "      <td>16.1</td>\n",
       "      <td>59.0</td>\n",
       "      <td>21.1</td>\n",
       "      <td>36.0</td>\n",
       "      <td>156.0</td>\n",
       "      <td>8.2</td>\n",
       "      <td>6.8</td>\n",
       "      <td>61.8</td>\n",
       "      <td>31.7</td>\n",
       "      <td>6.5</td>\n",
       "      <td>3.6</td>\n",
       "      <td>1.8</td>\n",
       "      <td>0.3</td>\n",
       "      <td>19.0</td>\n",
       "    </tr>\n",
       "    <tr>\n",
       "      <th>1</th>\n",
       "      <td>Severe Malaria</td>\n",
       "      <td>7.8</td>\n",
       "      <td>3.50</td>\n",
       "      <td>9.2</td>\n",
       "      <td>24.2</td>\n",
       "      <td>70.0</td>\n",
       "      <td>26.4</td>\n",
       "      <td>37.8</td>\n",
       "      <td>55.0</td>\n",
       "      <td>16.5</td>\n",
       "      <td>7.6</td>\n",
       "      <td>68.5</td>\n",
       "      <td>23.6</td>\n",
       "      <td>7.9</td>\n",
       "      <td>5.4</td>\n",
       "      <td>1.8</td>\n",
       "      <td>0.6</td>\n",
       "      <td>14.4</td>\n",
       "    </tr>\n",
       "    <tr>\n",
       "      <th>2</th>\n",
       "      <td>Severe Malaria</td>\n",
       "      <td>8.2</td>\n",
       "      <td>1.00</td>\n",
       "      <td>2.3</td>\n",
       "      <td>5.7</td>\n",
       "      <td>59.0</td>\n",
       "      <td>23.8</td>\n",
       "      <td>40.4</td>\n",
       "      <td>20.0</td>\n",
       "      <td>2.3</td>\n",
       "      <td>5.9</td>\n",
       "      <td>32.8</td>\n",
       "      <td>53.3</td>\n",
       "      <td>13.9</td>\n",
       "      <td>2.8</td>\n",
       "      <td>4.3</td>\n",
       "      <td>1.1</td>\n",
       "      <td>18.0</td>\n",
       "    </tr>\n",
       "    <tr>\n",
       "      <th>3</th>\n",
       "      <td>Severe Malaria</td>\n",
       "      <td>15.9</td>\n",
       "      <td>3.30</td>\n",
       "      <td>10.1</td>\n",
       "      <td>25.1</td>\n",
       "      <td>75.0</td>\n",
       "      <td>30.2</td>\n",
       "      <td>40.2</td>\n",
       "      <td>132.0</td>\n",
       "      <td>17.2</td>\n",
       "      <td>6.2</td>\n",
       "      <td>82.6</td>\n",
       "      <td>11.5</td>\n",
       "      <td>5.9</td>\n",
       "      <td>13.2</td>\n",
       "      <td>1.8</td>\n",
       "      <td>0.9</td>\n",
       "      <td>13.7</td>\n",
       "    </tr>\n",
       "    <tr>\n",
       "      <th>4</th>\n",
       "      <td>Severe Malaria</td>\n",
       "      <td>4.5</td>\n",
       "      <td>2.10</td>\n",
       "      <td>5.7</td>\n",
       "      <td>16.1</td>\n",
       "      <td>78.0</td>\n",
       "      <td>27.1</td>\n",
       "      <td>35.4</td>\n",
       "      <td>85.0</td>\n",
       "      <td>16.1</td>\n",
       "      <td>6.8</td>\n",
       "      <td>83.7</td>\n",
       "      <td>11.3</td>\n",
       "      <td>5.0</td>\n",
       "      <td>3.8</td>\n",
       "      <td>0.5</td>\n",
       "      <td>0.2</td>\n",
       "      <td>15.0</td>\n",
       "    </tr>\n",
       "    <tr>\n",
       "      <th>...</th>\n",
       "      <td>...</td>\n",
       "      <td>...</td>\n",
       "      <td>...</td>\n",
       "      <td>...</td>\n",
       "      <td>...</td>\n",
       "      <td>...</td>\n",
       "      <td>...</td>\n",
       "      <td>...</td>\n",
       "      <td>...</td>\n",
       "      <td>...</td>\n",
       "      <td>...</td>\n",
       "      <td>...</td>\n",
       "      <td>...</td>\n",
       "      <td>...</td>\n",
       "      <td>...</td>\n",
       "      <td>...</td>\n",
       "      <td>...</td>\n",
       "      <td>...</td>\n",
       "    </tr>\n",
       "    <tr>\n",
       "      <th>2202</th>\n",
       "      <td>Uncomplicated Malaria</td>\n",
       "      <td>12.3</td>\n",
       "      <td>4.33</td>\n",
       "      <td>10.2</td>\n",
       "      <td>32.0</td>\n",
       "      <td>74.0</td>\n",
       "      <td>23.7</td>\n",
       "      <td>32.0</td>\n",
       "      <td>277.0</td>\n",
       "      <td>12.3</td>\n",
       "      <td>7.1</td>\n",
       "      <td>71.3</td>\n",
       "      <td>22.6</td>\n",
       "      <td>6.1</td>\n",
       "      <td>8.9</td>\n",
       "      <td>2.7</td>\n",
       "      <td>0.7</td>\n",
       "      <td>16.1</td>\n",
       "    </tr>\n",
       "    <tr>\n",
       "      <th>2203</th>\n",
       "      <td>Non-malaria Infection</td>\n",
       "      <td>8.1</td>\n",
       "      <td>3.74</td>\n",
       "      <td>9.5</td>\n",
       "      <td>29.1</td>\n",
       "      <td>7.8</td>\n",
       "      <td>25.3</td>\n",
       "      <td>32.5</td>\n",
       "      <td>340.0</td>\n",
       "      <td>15.2</td>\n",
       "      <td>7.2</td>\n",
       "      <td>73.6</td>\n",
       "      <td>21.0</td>\n",
       "      <td>5.4</td>\n",
       "      <td>6.0</td>\n",
       "      <td>1.7</td>\n",
       "      <td>0.4</td>\n",
       "      <td>15.1</td>\n",
       "    </tr>\n",
       "    <tr>\n",
       "      <th>2204</th>\n",
       "      <td>Non-malaria Infection</td>\n",
       "      <td>9.5</td>\n",
       "      <td>4.38</td>\n",
       "      <td>11.9</td>\n",
       "      <td>36.6</td>\n",
       "      <td>84.0</td>\n",
       "      <td>27.2</td>\n",
       "      <td>32.6</td>\n",
       "      <td>300.0</td>\n",
       "      <td>14.3</td>\n",
       "      <td>6.5</td>\n",
       "      <td>43.6</td>\n",
       "      <td>49.4</td>\n",
       "      <td>7.0</td>\n",
       "      <td>4.3</td>\n",
       "      <td>4.6</td>\n",
       "      <td>0.6</td>\n",
       "      <td>18.2</td>\n",
       "    </tr>\n",
       "    <tr>\n",
       "      <th>2205</th>\n",
       "      <td>Non-malaria Infection</td>\n",
       "      <td>12.3</td>\n",
       "      <td>4.78</td>\n",
       "      <td>12.1</td>\n",
       "      <td>38.2</td>\n",
       "      <td>80.0</td>\n",
       "      <td>25.4</td>\n",
       "      <td>31.7</td>\n",
       "      <td>136.0</td>\n",
       "      <td>13.3</td>\n",
       "      <td>7.1</td>\n",
       "      <td>35.3</td>\n",
       "      <td>58.1</td>\n",
       "      <td>6.6</td>\n",
       "      <td>4.4</td>\n",
       "      <td>7.1</td>\n",
       "      <td>0.8</td>\n",
       "      <td>14.2</td>\n",
       "    </tr>\n",
       "    <tr>\n",
       "      <th>2206</th>\n",
       "      <td>Non-malaria Infection</td>\n",
       "      <td>4.7</td>\n",
       "      <td>3.83</td>\n",
       "      <td>9.3</td>\n",
       "      <td>29.9</td>\n",
       "      <td>78.0</td>\n",
       "      <td>24.4</td>\n",
       "      <td>31.2</td>\n",
       "      <td>272.0</td>\n",
       "      <td>12.9</td>\n",
       "      <td>7.3</td>\n",
       "      <td>59.1</td>\n",
       "      <td>35.4</td>\n",
       "      <td>5.5</td>\n",
       "      <td>2.9</td>\n",
       "      <td>1.6</td>\n",
       "      <td>0.2</td>\n",
       "      <td>15.7</td>\n",
       "    </tr>\n",
       "  </tbody>\n",
       "</table>\n",
       "<p>2207 rows × 18 columns</p>\n",
       "</div>"
      ],
      "text/plain": [
       "         Clinical_Diagnosis  wbc_count  rbc_count  hb_level  hematocrit  \\\n",
       "0            Severe Malaria        5.7       2.80       5.8        16.1   \n",
       "1            Severe Malaria        7.8       3.50       9.2        24.2   \n",
       "2            Severe Malaria        8.2       1.00       2.3         5.7   \n",
       "3            Severe Malaria       15.9       3.30      10.1        25.1   \n",
       "4            Severe Malaria        4.5       2.10       5.7        16.1   \n",
       "...                     ...        ...        ...       ...         ...   \n",
       "2202  Uncomplicated Malaria       12.3       4.33      10.2        32.0   \n",
       "2203  Non-malaria Infection        8.1       3.74       9.5        29.1   \n",
       "2204  Non-malaria Infection        9.5       4.38      11.9        36.6   \n",
       "2205  Non-malaria Infection       12.3       4.78      12.1        38.2   \n",
       "2206  Non-malaria Infection        4.7       3.83       9.3        29.9   \n",
       "\n",
       "      mean_cell_volume  mean_corp_hb  mean_cell_hb_conc  platelet_count  \\\n",
       "0                 59.0          21.1               36.0           156.0   \n",
       "1                 70.0          26.4               37.8            55.0   \n",
       "2                 59.0          23.8               40.4            20.0   \n",
       "3                 75.0          30.2               40.2           132.0   \n",
       "4                 78.0          27.1               35.4            85.0   \n",
       "...                ...           ...                ...             ...   \n",
       "2202              74.0          23.7               32.0           277.0   \n",
       "2203               7.8          25.3               32.5           340.0   \n",
       "2204              84.0          27.2               32.6           300.0   \n",
       "2205              80.0          25.4               31.7           136.0   \n",
       "2206              78.0          24.4               31.2           272.0   \n",
       "\n",
       "      platelet_distr_width  mean_platelet_vl  neutrophils_percent  \\\n",
       "0                      8.2               6.8                 61.8   \n",
       "1                     16.5               7.6                 68.5   \n",
       "2                      2.3               5.9                 32.8   \n",
       "3                     17.2               6.2                 82.6   \n",
       "4                     16.1               6.8                 83.7   \n",
       "...                    ...               ...                  ...   \n",
       "2202                  12.3               7.1                 71.3   \n",
       "2203                  15.2               7.2                 73.6   \n",
       "2204                  14.3               6.5                 43.6   \n",
       "2205                  13.3               7.1                 35.3   \n",
       "2206                  12.9               7.3                 59.1   \n",
       "\n",
       "      lymphocytes_percent  mixed_cells_percent  neutrophils_count  \\\n",
       "0                    31.7                  6.5                3.6   \n",
       "1                    23.6                  7.9                5.4   \n",
       "2                    53.3                 13.9                2.8   \n",
       "3                    11.5                  5.9               13.2   \n",
       "4                    11.3                  5.0                3.8   \n",
       "...                   ...                  ...                ...   \n",
       "2202                 22.6                  6.1                8.9   \n",
       "2203                 21.0                  5.4                6.0   \n",
       "2204                 49.4                  7.0                4.3   \n",
       "2205                 58.1                  6.6                4.4   \n",
       "2206                 35.4                  5.5                2.9   \n",
       "\n",
       "      lymphocytes_count  mixed_cells_count  RBC_dist_width_Percent  \n",
       "0                   1.8                0.3                    19.0  \n",
       "1                   1.8                0.6                    14.4  \n",
       "2                   4.3                1.1                    18.0  \n",
       "3                   1.8                0.9                    13.7  \n",
       "4                   0.5                0.2                    15.0  \n",
       "...                 ...                ...                     ...  \n",
       "2202                2.7                0.7                    16.1  \n",
       "2203                1.7                0.4                    15.1  \n",
       "2204                4.6                0.6                    18.2  \n",
       "2205                7.1                0.8                    14.2  \n",
       "2206                1.6                0.2                    15.7  \n",
       "\n",
       "[2207 rows x 18 columns]"
      ]
     },
     "execution_count": 23,
     "metadata": {},
     "output_type": "execute_result"
    }
   ],
   "source": [
    "subset"
   ]
  },
  {
   "cell_type": "code",
   "execution_count": 25,
   "id": "1336e1a5-c02b-4673-8f00-d2ed519ace5d",
   "metadata": {},
   "outputs": [
    {
     "data": {
      "text/plain": [
       "(2207, 18)"
      ]
     },
     "execution_count": 25,
     "metadata": {},
     "output_type": "execute_result"
    }
   ],
   "source": [
    "subset.shape"
   ]
  },
  {
   "cell_type": "code",
   "execution_count": 27,
   "id": "66e9939b-57fa-4278-a5d0-b5ed99d845c2",
   "metadata": {},
   "outputs": [
    {
     "data": {
      "text/plain": [
       "<bound method DataFrame.info of          Clinical_Diagnosis  wbc_count  rbc_count  hb_level  hematocrit  \\\n",
       "0            Severe Malaria        5.7       2.80       5.8        16.1   \n",
       "1            Severe Malaria        7.8       3.50       9.2        24.2   \n",
       "2            Severe Malaria        8.2       1.00       2.3         5.7   \n",
       "3            Severe Malaria       15.9       3.30      10.1        25.1   \n",
       "4            Severe Malaria        4.5       2.10       5.7        16.1   \n",
       "...                     ...        ...        ...       ...         ...   \n",
       "2202  Uncomplicated Malaria       12.3       4.33      10.2        32.0   \n",
       "2203  Non-malaria Infection        8.1       3.74       9.5        29.1   \n",
       "2204  Non-malaria Infection        9.5       4.38      11.9        36.6   \n",
       "2205  Non-malaria Infection       12.3       4.78      12.1        38.2   \n",
       "2206  Non-malaria Infection        4.7       3.83       9.3        29.9   \n",
       "\n",
       "      mean_cell_volume  mean_corp_hb  mean_cell_hb_conc  platelet_count  \\\n",
       "0                 59.0          21.1               36.0           156.0   \n",
       "1                 70.0          26.4               37.8            55.0   \n",
       "2                 59.0          23.8               40.4            20.0   \n",
       "3                 75.0          30.2               40.2           132.0   \n",
       "4                 78.0          27.1               35.4            85.0   \n",
       "...                ...           ...                ...             ...   \n",
       "2202              74.0          23.7               32.0           277.0   \n",
       "2203               7.8          25.3               32.5           340.0   \n",
       "2204              84.0          27.2               32.6           300.0   \n",
       "2205              80.0          25.4               31.7           136.0   \n",
       "2206              78.0          24.4               31.2           272.0   \n",
       "\n",
       "      platelet_distr_width  mean_platelet_vl  neutrophils_percent  \\\n",
       "0                      8.2               6.8                 61.8   \n",
       "1                     16.5               7.6                 68.5   \n",
       "2                      2.3               5.9                 32.8   \n",
       "3                     17.2               6.2                 82.6   \n",
       "4                     16.1               6.8                 83.7   \n",
       "...                    ...               ...                  ...   \n",
       "2202                  12.3               7.1                 71.3   \n",
       "2203                  15.2               7.2                 73.6   \n",
       "2204                  14.3               6.5                 43.6   \n",
       "2205                  13.3               7.1                 35.3   \n",
       "2206                  12.9               7.3                 59.1   \n",
       "\n",
       "      lymphocytes_percent  mixed_cells_percent  neutrophils_count  \\\n",
       "0                    31.7                  6.5                3.6   \n",
       "1                    23.6                  7.9                5.4   \n",
       "2                    53.3                 13.9                2.8   \n",
       "3                    11.5                  5.9               13.2   \n",
       "4                    11.3                  5.0                3.8   \n",
       "...                   ...                  ...                ...   \n",
       "2202                 22.6                  6.1                8.9   \n",
       "2203                 21.0                  5.4                6.0   \n",
       "2204                 49.4                  7.0                4.3   \n",
       "2205                 58.1                  6.6                4.4   \n",
       "2206                 35.4                  5.5                2.9   \n",
       "\n",
       "      lymphocytes_count  mixed_cells_count  RBC_dist_width_Percent  \n",
       "0                   1.8                0.3                    19.0  \n",
       "1                   1.8                0.6                    14.4  \n",
       "2                   4.3                1.1                    18.0  \n",
       "3                   1.8                0.9                    13.7  \n",
       "4                   0.5                0.2                    15.0  \n",
       "...                 ...                ...                     ...  \n",
       "2202                2.7                0.7                    16.1  \n",
       "2203                1.7                0.4                    15.1  \n",
       "2204                4.6                0.6                    18.2  \n",
       "2205                7.1                0.8                    14.2  \n",
       "2206                1.6                0.2                    15.7  \n",
       "\n",
       "[2207 rows x 18 columns]>"
      ]
     },
     "execution_count": 27,
     "metadata": {},
     "output_type": "execute_result"
    }
   ],
   "source": [
    "subset.info"
   ]
  },
  {
   "cell_type": "code",
   "execution_count": 29,
   "id": "5eff3577-e987-400b-9f32-3efce71766ab",
   "metadata": {},
   "outputs": [
    {
     "data": {
      "text/plain": [
       "Clinical_Diagnosis         0\n",
       "wbc_count                  0\n",
       "rbc_count                  0\n",
       "hb_level                   0\n",
       "hematocrit                 0\n",
       "mean_cell_volume           0\n",
       "mean_corp_hb               3\n",
       "mean_cell_hb_conc          2\n",
       "platelet_count             9\n",
       "platelet_distr_width      32\n",
       "mean_platelet_vl          17\n",
       "neutrophils_percent        0\n",
       "lymphocytes_percent        0\n",
       "mixed_cells_percent        0\n",
       "neutrophils_count         12\n",
       "lymphocytes_count         11\n",
       "mixed_cells_count         11\n",
       "RBC_dist_width_Percent     9\n",
       "dtype: int64"
      ]
     },
     "execution_count": 29,
     "metadata": {},
     "output_type": "execute_result"
    }
   ],
   "source": [
    "#Check the missing data. We are interested in how many missing data are present in each column\n",
    "subset.isnull().sum()"
   ]
  },
  {
   "cell_type": "code",
   "execution_count": 31,
   "id": "66c7ce90-6d9f-460d-ba20-7095e6546f7c",
   "metadata": {},
   "outputs": [],
   "source": [
    "# handling missing values\n",
    "# drop / remove all rows with missing values\n",
    "subset.dropna(inplace=True)"
   ]
  },
  {
   "cell_type": "code",
   "execution_count": 33,
   "id": "ab1415e8-1b54-426e-b30f-9660d256a447",
   "metadata": {},
   "outputs": [
    {
     "data": {
      "text/plain": [
       "Index(['Clinical_Diagnosis', 'wbc_count', 'rbc_count', 'hb_level',\n",
       "       'hematocrit', 'mean_cell_volume', 'mean_corp_hb', 'mean_cell_hb_conc',\n",
       "       'platelet_count', 'platelet_distr_width', 'mean_platelet_vl',\n",
       "       'neutrophils_percent', 'lymphocytes_percent', 'mixed_cells_percent',\n",
       "       'neutrophils_count', 'lymphocytes_count', 'mixed_cells_count',\n",
       "       'RBC_dist_width_Percent'],\n",
       "      dtype='object')"
      ]
     },
     "execution_count": 33,
     "metadata": {},
     "output_type": "execute_result"
    }
   ],
   "source": [
    "subset.columns"
   ]
  },
  {
   "cell_type": "code",
   "execution_count": 35,
   "id": "9b777b4b-63cb-401c-b8fc-d6adb9d23223",
   "metadata": {},
   "outputs": [],
   "source": [
    "#Let us get the different malaria outcomes. \n",
    "#The outcomes will be our labels/classes in the data\n"
   ]
  },
  {
   "cell_type": "code",
   "execution_count": 37,
   "id": "1a1c4a56-282d-42b3-ab69-cf2e9238ce71",
   "metadata": {},
   "outputs": [
    {
     "data": {
      "text/plain": [
       "array(['Severe Malaria', 'Uncomplicated Malaria', 'Non-malaria Infection'],\n",
       "      dtype=object)"
      ]
     },
     "execution_count": 37,
     "metadata": {},
     "output_type": "execute_result"
    }
   ],
   "source": [
    "subset['Clinical_Diagnosis'].unique()"
   ]
  },
  {
   "cell_type": "code",
   "execution_count": 39,
   "id": "35f32d1b-9d3b-4a4e-921b-82d32f0193c6",
   "metadata": {},
   "outputs": [
    {
     "data": {
      "text/plain": [
       "Clinical_Diagnosis\n",
       "Non-malaria Infection    966\n",
       "Uncomplicated Malaria    702\n",
       "Severe Malaria           488\n",
       "Name: count, dtype: int64"
      ]
     },
     "execution_count": 39,
     "metadata": {},
     "output_type": "execute_result"
    }
   ],
   "source": [
    "#class distribution\n",
    "subset['Clinical_Diagnosis'].value_counts()"
   ]
  },
  {
   "cell_type": "code",
   "execution_count": 41,
   "id": "fdabcc69-d328-4d98-a413-07d3d274ae9b",
   "metadata": {},
   "outputs": [
    {
     "data": {
      "text/plain": [
       "<Axes: xlabel='Clinical_Diagnosis'>"
      ]
     },
     "execution_count": 41,
     "metadata": {},
     "output_type": "execute_result"
    },
    {
     "data": {
      "image/png": "[encoded data removed]",
      "text/plain": [
       "<Figure size 640x480 with 1 Axes>"
      ]
     },
     "metadata": {},
     "output_type": "display_data"
    }
   ],
   "source": [
    "# plot a bar chat to display the class distribution\n",
    "subset['Clinical_Diagnosis'].value_counts().plot.bar()"
   ]
  },
  {
   "cell_type": "code",
   "execution_count": 42,
   "id": "bafbde90-d3ca-411e-ab46-9a2120f222d3",
   "metadata": {},
   "outputs": [
    {
     "data": {
      "text/html": [
       "<div>\n",
       "<style scoped>\n",
       "    .dataframe tbody tr th:only-of-type {\n",
       "        vertical-align: middle;\n",
       "    }\n",
       "\n",
       "    .dataframe tbody tr th {\n",
       "        vertical-align: top;\n",
       "    }\n",
       "\n",
       "    .dataframe thead th {\n",
       "        text-align: right;\n",
       "    }\n",
       "</style>\n",
       "<table border=\"1\" class=\"dataframe\">\n",
       "  <thead>\n",
       "    <tr style=\"text-align: right;\">\n",
       "      <th></th>\n",
       "      <th>Clinical_Diagnosis</th>\n",
       "      <th>wbc_count</th>\n",
       "      <th>rbc_count</th>\n",
       "      <th>hb_level</th>\n",
       "      <th>hematocrit</th>\n",
       "      <th>mean_cell_volume</th>\n",
       "      <th>mean_corp_hb</th>\n",
       "      <th>mean_cell_hb_conc</th>\n",
       "      <th>platelet_count</th>\n",
       "      <th>platelet_distr_width</th>\n",
       "      <th>mean_platelet_vl</th>\n",
       "      <th>neutrophils_percent</th>\n",
       "      <th>lymphocytes_percent</th>\n",
       "      <th>mixed_cells_percent</th>\n",
       "      <th>neutrophils_count</th>\n",
       "      <th>lymphocytes_count</th>\n",
       "      <th>mixed_cells_count</th>\n",
       "      <th>RBC_dist_width_Percent</th>\n",
       "    </tr>\n",
       "  </thead>\n",
       "  <tbody>\n",
       "    <tr>\n",
       "      <th>0</th>\n",
       "      <td>Severe Malaria</td>\n",
       "      <td>5.7</td>\n",
       "      <td>2.8</td>\n",
       "      <td>5.8</td>\n",
       "      <td>16.1</td>\n",
       "      <td>59.0</td>\n",
       "      <td>21.1</td>\n",
       "      <td>36.0</td>\n",
       "      <td>156.0</td>\n",
       "      <td>8.2</td>\n",
       "      <td>6.8</td>\n",
       "      <td>61.8</td>\n",
       "      <td>31.7</td>\n",
       "      <td>6.5</td>\n",
       "      <td>3.6</td>\n",
       "      <td>1.8</td>\n",
       "      <td>0.3</td>\n",
       "      <td>19.0</td>\n",
       "    </tr>\n",
       "    <tr>\n",
       "      <th>1</th>\n",
       "      <td>Severe Malaria</td>\n",
       "      <td>7.8</td>\n",
       "      <td>3.5</td>\n",
       "      <td>9.2</td>\n",
       "      <td>24.2</td>\n",
       "      <td>70.0</td>\n",
       "      <td>26.4</td>\n",
       "      <td>37.8</td>\n",
       "      <td>55.0</td>\n",
       "      <td>16.5</td>\n",
       "      <td>7.6</td>\n",
       "      <td>68.5</td>\n",
       "      <td>23.6</td>\n",
       "      <td>7.9</td>\n",
       "      <td>5.4</td>\n",
       "      <td>1.8</td>\n",
       "      <td>0.6</td>\n",
       "      <td>14.4</td>\n",
       "    </tr>\n",
       "    <tr>\n",
       "      <th>2</th>\n",
       "      <td>Severe Malaria</td>\n",
       "      <td>8.2</td>\n",
       "      <td>1.0</td>\n",
       "      <td>2.3</td>\n",
       "      <td>5.7</td>\n",
       "      <td>59.0</td>\n",
       "      <td>23.8</td>\n",
       "      <td>40.4</td>\n",
       "      <td>20.0</td>\n",
       "      <td>2.3</td>\n",
       "      <td>5.9</td>\n",
       "      <td>32.8</td>\n",
       "      <td>53.3</td>\n",
       "      <td>13.9</td>\n",
       "      <td>2.8</td>\n",
       "      <td>4.3</td>\n",
       "      <td>1.1</td>\n",
       "      <td>18.0</td>\n",
       "    </tr>\n",
       "    <tr>\n",
       "      <th>3</th>\n",
       "      <td>Severe Malaria</td>\n",
       "      <td>15.9</td>\n",
       "      <td>3.3</td>\n",
       "      <td>10.1</td>\n",
       "      <td>25.1</td>\n",
       "      <td>75.0</td>\n",
       "      <td>30.2</td>\n",
       "      <td>40.2</td>\n",
       "      <td>132.0</td>\n",
       "      <td>17.2</td>\n",
       "      <td>6.2</td>\n",
       "      <td>82.6</td>\n",
       "      <td>11.5</td>\n",
       "      <td>5.9</td>\n",
       "      <td>13.2</td>\n",
       "      <td>1.8</td>\n",
       "      <td>0.9</td>\n",
       "      <td>13.7</td>\n",
       "    </tr>\n",
       "    <tr>\n",
       "      <th>4</th>\n",
       "      <td>Severe Malaria</td>\n",
       "      <td>4.5</td>\n",
       "      <td>2.1</td>\n",
       "      <td>5.7</td>\n",
       "      <td>16.1</td>\n",
       "      <td>78.0</td>\n",
       "      <td>27.1</td>\n",
       "      <td>35.4</td>\n",
       "      <td>85.0</td>\n",
       "      <td>16.1</td>\n",
       "      <td>6.8</td>\n",
       "      <td>83.7</td>\n",
       "      <td>11.3</td>\n",
       "      <td>5.0</td>\n",
       "      <td>3.8</td>\n",
       "      <td>0.5</td>\n",
       "      <td>0.2</td>\n",
       "      <td>15.0</td>\n",
       "    </tr>\n",
       "  </tbody>\n",
       "</table>\n",
       "</div>"
      ],
      "text/plain": [
       "  Clinical_Diagnosis  wbc_count  rbc_count  hb_level  hematocrit  \\\n",
       "0     Severe Malaria        5.7        2.8       5.8        16.1   \n",
       "1     Severe Malaria        7.8        3.5       9.2        24.2   \n",
       "2     Severe Malaria        8.2        1.0       2.3         5.7   \n",
       "3     Severe Malaria       15.9        3.3      10.1        25.1   \n",
       "4     Severe Malaria        4.5        2.1       5.7        16.1   \n",
       "\n",
       "   mean_cell_volume  mean_corp_hb  mean_cell_hb_conc  platelet_count  \\\n",
       "0              59.0          21.1               36.0           156.0   \n",
       "1              70.0          26.4               37.8            55.0   \n",
       "2              59.0          23.8               40.4            20.0   \n",
       "3              75.0          30.2               40.2           132.0   \n",
       "4              78.0          27.1               35.4            85.0   \n",
       "\n",
       "   platelet_distr_width  mean_platelet_vl  neutrophils_percent  \\\n",
       "0                   8.2               6.8                 61.8   \n",
       "1                  16.5               7.6                 68.5   \n",
       "2                   2.3               5.9                 32.8   \n",
       "3                  17.2               6.2                 82.6   \n",
       "4                  16.1               6.8                 83.7   \n",
       "\n",
       "   lymphocytes_percent  mixed_cells_percent  neutrophils_count  \\\n",
       "0                 31.7                  6.5                3.6   \n",
       "1                 23.6                  7.9                5.4   \n",
       "2                 53.3                 13.9                2.8   \n",
       "3                 11.5                  5.9               13.2   \n",
       "4                 11.3                  5.0                3.8   \n",
       "\n",
       "   lymphocytes_count  mixed_cells_count  RBC_dist_width_Percent  \n",
       "0                1.8                0.3                    19.0  \n",
       "1                1.8                0.6                    14.4  \n",
       "2                4.3                1.1                    18.0  \n",
       "3                1.8                0.9                    13.7  \n",
       "4                0.5                0.2                    15.0  "
      ]
     },
     "execution_count": 42,
     "metadata": {},
     "output_type": "execute_result"
    }
   ],
   "source": [
    "subset.head()"
   ]
  },
  {
   "cell_type": "code",
   "execution_count": 45,
   "id": "d33fcc65-e37f-4f6e-965a-02e816093a0e",
   "metadata": {},
   "outputs": [
    {
     "data": {
      "text/html": [
       "<div>\n",
       "<style scoped>\n",
       "    .dataframe tbody tr th:only-of-type {\n",
       "        vertical-align: middle;\n",
       "    }\n",
       "\n",
       "    .dataframe tbody tr th {\n",
       "        vertical-align: top;\n",
       "    }\n",
       "\n",
       "    .dataframe thead th {\n",
       "        text-align: right;\n",
       "    }\n",
       "</style>\n",
       "<table border=\"1\" class=\"dataframe\">\n",
       "  <thead>\n",
       "    <tr style=\"text-align: right;\">\n",
       "      <th></th>\n",
       "      <th>count</th>\n",
       "      <th>mean</th>\n",
       "      <th>std</th>\n",
       "      <th>min</th>\n",
       "      <th>25%</th>\n",
       "      <th>50%</th>\n",
       "      <th>75%</th>\n",
       "      <th>max</th>\n",
       "    </tr>\n",
       "  </thead>\n",
       "  <tbody>\n",
       "    <tr>\n",
       "      <th>wbc_count</th>\n",
       "      <td>2156.0</td>\n",
       "      <td>10.723516</td>\n",
       "      <td>5.944994</td>\n",
       "      <td>0.5</td>\n",
       "      <td>6.80</td>\n",
       "      <td>9.30</td>\n",
       "      <td>12.900</td>\n",
       "      <td>53.90</td>\n",
       "    </tr>\n",
       "    <tr>\n",
       "      <th>rbc_count</th>\n",
       "      <td>2156.0</td>\n",
       "      <td>3.911679</td>\n",
       "      <td>1.132454</td>\n",
       "      <td>0.5</td>\n",
       "      <td>3.34</td>\n",
       "      <td>4.17</td>\n",
       "      <td>4.650</td>\n",
       "      <td>6.67</td>\n",
       "    </tr>\n",
       "    <tr>\n",
       "      <th>hb_level</th>\n",
       "      <td>2156.0</td>\n",
       "      <td>9.423010</td>\n",
       "      <td>2.650261</td>\n",
       "      <td>1.4</td>\n",
       "      <td>7.90</td>\n",
       "      <td>10.20</td>\n",
       "      <td>11.325</td>\n",
       "      <td>18.70</td>\n",
       "    </tr>\n",
       "    <tr>\n",
       "      <th>hematocrit</th>\n",
       "      <td>2156.0</td>\n",
       "      <td>29.320223</td>\n",
       "      <td>8.802975</td>\n",
       "      <td>4.3</td>\n",
       "      <td>24.20</td>\n",
       "      <td>31.70</td>\n",
       "      <td>35.500</td>\n",
       "      <td>52.70</td>\n",
       "    </tr>\n",
       "    <tr>\n",
       "      <th>mean_cell_volume</th>\n",
       "      <td>2156.0</td>\n",
       "      <td>74.828256</td>\n",
       "      <td>8.046383</td>\n",
       "      <td>7.8</td>\n",
       "      <td>70.00</td>\n",
       "      <td>75.00</td>\n",
       "      <td>80.000</td>\n",
       "      <td>121.00</td>\n",
       "    </tr>\n",
       "    <tr>\n",
       "      <th>mean_corp_hb</th>\n",
       "      <td>2156.0</td>\n",
       "      <td>24.142189</td>\n",
       "      <td>3.203595</td>\n",
       "      <td>2.1</td>\n",
       "      <td>22.20</td>\n",
       "      <td>24.10</td>\n",
       "      <td>26.200</td>\n",
       "      <td>38.80</td>\n",
       "    </tr>\n",
       "    <tr>\n",
       "      <th>mean_cell_hb_conc</th>\n",
       "      <td>2156.0</td>\n",
       "      <td>32.259318</td>\n",
       "      <td>2.864637</td>\n",
       "      <td>15.7</td>\n",
       "      <td>30.60</td>\n",
       "      <td>32.10</td>\n",
       "      <td>33.425</td>\n",
       "      <td>46.60</td>\n",
       "    </tr>\n",
       "    <tr>\n",
       "      <th>platelet_count</th>\n",
       "      <td>2156.0</td>\n",
       "      <td>214.545176</td>\n",
       "      <td>128.697718</td>\n",
       "      <td>3.0</td>\n",
       "      <td>105.00</td>\n",
       "      <td>201.00</td>\n",
       "      <td>300.250</td>\n",
       "      <td>1087.00</td>\n",
       "    </tr>\n",
       "    <tr>\n",
       "      <th>platelet_distr_width</th>\n",
       "      <td>2156.0</td>\n",
       "      <td>14.137894</td>\n",
       "      <td>3.064643</td>\n",
       "      <td>0.0</td>\n",
       "      <td>12.90</td>\n",
       "      <td>14.90</td>\n",
       "      <td>15.600</td>\n",
       "      <td>23.90</td>\n",
       "    </tr>\n",
       "    <tr>\n",
       "      <th>mean_platelet_vl</th>\n",
       "      <td>2156.0</td>\n",
       "      <td>8.031447</td>\n",
       "      <td>1.194886</td>\n",
       "      <td>3.3</td>\n",
       "      <td>7.20</td>\n",
       "      <td>7.90</td>\n",
       "      <td>8.800</td>\n",
       "      <td>18.60</td>\n",
       "    </tr>\n",
       "    <tr>\n",
       "      <th>neutrophils_percent</th>\n",
       "      <td>2156.0</td>\n",
       "      <td>58.623006</td>\n",
       "      <td>16.613445</td>\n",
       "      <td>9.3</td>\n",
       "      <td>46.00</td>\n",
       "      <td>59.40</td>\n",
       "      <td>72.200</td>\n",
       "      <td>93.30</td>\n",
       "    </tr>\n",
       "    <tr>\n",
       "      <th>lymphocytes_percent</th>\n",
       "      <td>2156.0</td>\n",
       "      <td>33.014842</td>\n",
       "      <td>14.970647</td>\n",
       "      <td>3.8</td>\n",
       "      <td>20.60</td>\n",
       "      <td>31.70</td>\n",
       "      <td>44.200</td>\n",
       "      <td>81.50</td>\n",
       "    </tr>\n",
       "    <tr>\n",
       "      <th>mixed_cells_percent</th>\n",
       "      <td>2156.0</td>\n",
       "      <td>8.362199</td>\n",
       "      <td>3.436953</td>\n",
       "      <td>0.3</td>\n",
       "      <td>5.80</td>\n",
       "      <td>8.00</td>\n",
       "      <td>10.600</td>\n",
       "      <td>27.30</td>\n",
       "    </tr>\n",
       "    <tr>\n",
       "      <th>neutrophils_count</th>\n",
       "      <td>2156.0</td>\n",
       "      <td>6.440802</td>\n",
       "      <td>4.268695</td>\n",
       "      <td>0.1</td>\n",
       "      <td>3.60</td>\n",
       "      <td>5.40</td>\n",
       "      <td>8.000</td>\n",
       "      <td>42.00</td>\n",
       "    </tr>\n",
       "    <tr>\n",
       "      <th>lymphocytes_count</th>\n",
       "      <td>2156.0</td>\n",
       "      <td>3.430728</td>\n",
       "      <td>2.534383</td>\n",
       "      <td>0.3</td>\n",
       "      <td>1.70</td>\n",
       "      <td>2.80</td>\n",
       "      <td>4.400</td>\n",
       "      <td>28.10</td>\n",
       "    </tr>\n",
       "    <tr>\n",
       "      <th>mixed_cells_count</th>\n",
       "      <td>2156.0</td>\n",
       "      <td>0.851981</td>\n",
       "      <td>0.635395</td>\n",
       "      <td>0.0</td>\n",
       "      <td>0.40</td>\n",
       "      <td>0.70</td>\n",
       "      <td>1.100</td>\n",
       "      <td>5.60</td>\n",
       "    </tr>\n",
       "    <tr>\n",
       "      <th>RBC_dist_width_Percent</th>\n",
       "      <td>2156.0</td>\n",
       "      <td>16.333808</td>\n",
       "      <td>2.590446</td>\n",
       "      <td>10.6</td>\n",
       "      <td>14.50</td>\n",
       "      <td>15.80</td>\n",
       "      <td>17.600</td>\n",
       "      <td>29.00</td>\n",
       "    </tr>\n",
       "  </tbody>\n",
       "</table>\n",
       "</div>"
      ],
      "text/plain": [
       "                         count        mean         std   min     25%     50%  \\\n",
       "wbc_count               2156.0   10.723516    5.944994   0.5    6.80    9.30   \n",
       "rbc_count               2156.0    3.911679    1.132454   0.5    3.34    4.17   \n",
       "hb_level                2156.0    9.423010    2.650261   1.4    7.90   10.20   \n",
       "hematocrit              2156.0   29.320223    8.802975   4.3   24.20   31.70   \n",
       "mean_cell_volume        2156.0   74.828256    8.046383   7.8   70.00   75.00   \n",
       "mean_corp_hb            2156.0   24.142189    3.203595   2.1   22.20   24.10   \n",
       "mean_cell_hb_conc       2156.0   32.259318    2.864637  15.7   30.60   32.10   \n",
       "platelet_count          2156.0  214.545176  128.697718   3.0  105.00  201.00   \n",
       "platelet_distr_width    2156.0   14.137894    3.064643   0.0   12.90   14.90   \n",
       "mean_platelet_vl        2156.0    8.031447    1.194886   3.3    7.20    7.90   \n",
       "neutrophils_percent     2156.0   58.623006   16.613445   9.3   46.00   59.40   \n",
       "lymphocytes_percent     2156.0   33.014842   14.970647   3.8   20.60   31.70   \n",
       "mixed_cells_percent     2156.0    8.362199    3.436953   0.3    5.80    8.00   \n",
       "neutrophils_count       2156.0    6.440802    4.268695   0.1    3.60    5.40   \n",
       "lymphocytes_count       2156.0    3.430728    2.534383   0.3    1.70    2.80   \n",
       "mixed_cells_count       2156.0    0.851981    0.635395   0.0    0.40    0.70   \n",
       "RBC_dist_width_Percent  2156.0   16.333808    2.590446  10.6   14.50   15.80   \n",
       "\n",
       "                            75%      max  \n",
       "wbc_count                12.900    53.90  \n",
       "rbc_count                 4.650     6.67  \n",
       "hb_level                 11.325    18.70  \n",
       "hematocrit               35.500    52.70  \n",
       "mean_cell_volume         80.000   121.00  \n",
       "mean_corp_hb             26.200    38.80  \n",
       "mean_cell_hb_conc        33.425    46.60  \n",
       "platelet_count          300.250  1087.00  \n",
       "platelet_distr_width     15.600    23.90  \n",
       "mean_platelet_vl          8.800    18.60  \n",
       "neutrophils_percent      72.200    93.30  \n",
       "lymphocytes_percent      44.200    81.50  \n",
       "mixed_cells_percent      10.600    27.30  \n",
       "neutrophils_count         8.000    42.00  \n",
       "lymphocytes_count         4.400    28.10  \n",
       "mixed_cells_count         1.100     5.60  \n",
       "RBC_dist_width_Percent   17.600    29.00  "
      ]
     },
     "execution_count": 45,
     "metadata": {},
     "output_type": "execute_result"
    }
   ],
   "source": [
    "#descriptive statistics on the data\n",
    "subset.iloc[:,1:].describe().transpose()"
   ]
  },
  {
   "cell_type": "code",
   "execution_count": 46,
   "id": "21e8ad99-724b-4af3-836b-3300d81c656f",
   "metadata": {},
   "outputs": [
    {
     "data": {
      "text/html": [
       "<div>\n",
       "<style scoped>\n",
       "    .dataframe tbody tr th:only-of-type {\n",
       "        vertical-align: middle;\n",
       "    }\n",
       "\n",
       "    .dataframe tbody tr th {\n",
       "        vertical-align: top;\n",
       "    }\n",
       "\n",
       "    .dataframe thead th {\n",
       "        text-align: right;\n",
       "    }\n",
       "</style>\n",
       "<table border=\"1\" class=\"dataframe\">\n",
       "  <thead>\n",
       "    <tr style=\"text-align: right;\">\n",
       "      <th></th>\n",
       "      <th>wbc_count</th>\n",
       "      <th>rbc_count</th>\n",
       "      <th>hb_level</th>\n",
       "      <th>hematocrit</th>\n",
       "      <th>mean_cell_volume</th>\n",
       "      <th>mean_corp_hb</th>\n",
       "      <th>mean_cell_hb_conc</th>\n",
       "      <th>platelet_count</th>\n",
       "      <th>platelet_distr_width</th>\n",
       "      <th>mean_platelet_vl</th>\n",
       "      <th>neutrophils_percent</th>\n",
       "      <th>lymphocytes_percent</th>\n",
       "      <th>mixed_cells_percent</th>\n",
       "      <th>neutrophils_count</th>\n",
       "      <th>lymphocytes_count</th>\n",
       "      <th>mixed_cells_count</th>\n",
       "      <th>RBC_dist_width_Percent</th>\n",
       "    </tr>\n",
       "  </thead>\n",
       "  <tbody>\n",
       "    <tr>\n",
       "      <th>wbc_count</th>\n",
       "      <td>1.000000</td>\n",
       "      <td>-0.217584</td>\n",
       "      <td>-0.283881</td>\n",
       "      <td>-0.261736</td>\n",
       "      <td>-0.150900</td>\n",
       "      <td>-0.084770</td>\n",
       "      <td>0.066981</td>\n",
       "      <td>0.122330</td>\n",
       "      <td>0.022260</td>\n",
       "      <td>-0.100716</td>\n",
       "      <td>0.093870</td>\n",
       "      <td>-0.090940</td>\n",
       "      <td>-0.057664</td>\n",
       "      <td>0.876999</td>\n",
       "      <td>0.689196</td>\n",
       "      <td>0.715568</td>\n",
       "      <td>0.252208</td>\n",
       "    </tr>\n",
       "    <tr>\n",
       "      <th>rbc_count</th>\n",
       "      <td>-0.217584</td>\n",
       "      <td>1.000000</td>\n",
       "      <td>0.896557</td>\n",
       "      <td>0.922294</td>\n",
       "      <td>-0.017848</td>\n",
       "      <td>-0.348335</td>\n",
       "      <td>-0.497615</td>\n",
       "      <td>0.409424</td>\n",
       "      <td>0.001756</td>\n",
       "      <td>0.284809</td>\n",
       "      <td>0.077574</td>\n",
       "      <td>-0.073216</td>\n",
       "      <td>-0.056070</td>\n",
       "      <td>-0.134216</td>\n",
       "      <td>-0.233978</td>\n",
       "      <td>-0.200859</td>\n",
       "      <td>-0.364396</td>\n",
       "    </tr>\n",
       "    <tr>\n",
       "      <th>hb_level</th>\n",
       "      <td>-0.283881</td>\n",
       "      <td>0.896557</td>\n",
       "      <td>1.000000</td>\n",
       "      <td>0.968644</td>\n",
       "      <td>0.286931</td>\n",
       "      <td>0.023659</td>\n",
       "      <td>-0.302304</td>\n",
       "      <td>0.353828</td>\n",
       "      <td>0.068770</td>\n",
       "      <td>0.248323</td>\n",
       "      <td>0.162289</td>\n",
       "      <td>-0.158665</td>\n",
       "      <td>-0.093352</td>\n",
       "      <td>-0.153907</td>\n",
       "      <td>-0.338160</td>\n",
       "      <td>-0.273327</td>\n",
       "      <td>-0.562710</td>\n",
       "    </tr>\n",
       "    <tr>\n",
       "      <th>hematocrit</th>\n",
       "      <td>-0.261736</td>\n",
       "      <td>0.922294</td>\n",
       "      <td>0.968644</td>\n",
       "      <td>1.000000</td>\n",
       "      <td>0.279029</td>\n",
       "      <td>-0.101461</td>\n",
       "      <td>-0.479766</td>\n",
       "      <td>0.387830</td>\n",
       "      <td>0.091718</td>\n",
       "      <td>0.285169</td>\n",
       "      <td>0.119252</td>\n",
       "      <td>-0.113198</td>\n",
       "      <td>-0.083365</td>\n",
       "      <td>-0.152236</td>\n",
       "      <td>-0.294044</td>\n",
       "      <td>-0.253324</td>\n",
       "      <td>-0.510445</td>\n",
       "    </tr>\n",
       "    <tr>\n",
       "      <th>mean_cell_volume</th>\n",
       "      <td>-0.150900</td>\n",
       "      <td>-0.017848</td>\n",
       "      <td>0.286931</td>\n",
       "      <td>0.279029</td>\n",
       "      <td>1.000000</td>\n",
       "      <td>0.722231</td>\n",
       "      <td>-0.077781</td>\n",
       "      <td>-0.002473</td>\n",
       "      <td>0.268485</td>\n",
       "      <td>0.038404</td>\n",
       "      <td>0.094697</td>\n",
       "      <td>-0.079596</td>\n",
       "      <td>-0.111013</td>\n",
       "      <td>-0.080385</td>\n",
       "      <td>-0.168477</td>\n",
       "      <td>-0.199845</td>\n",
       "      <td>-0.413033</td>\n",
       "    </tr>\n",
       "    <tr>\n",
       "      <th>mean_corp_hb</th>\n",
       "      <td>-0.084770</td>\n",
       "      <td>-0.348335</td>\n",
       "      <td>0.023659</td>\n",
       "      <td>-0.101461</td>\n",
       "      <td>0.722231</td>\n",
       "      <td>1.000000</td>\n",
       "      <td>0.576017</td>\n",
       "      <td>-0.202177</td>\n",
       "      <td>0.094658</td>\n",
       "      <td>-0.189324</td>\n",
       "      <td>0.149581</td>\n",
       "      <td>-0.151628</td>\n",
       "      <td>-0.062552</td>\n",
       "      <td>-0.011729</td>\n",
       "      <td>-0.152329</td>\n",
       "      <td>-0.106754</td>\n",
       "      <td>-0.334053</td>\n",
       "    </tr>\n",
       "    <tr>\n",
       "      <th>mean_cell_hb_conc</th>\n",
       "      <td>0.066981</td>\n",
       "      <td>-0.497615</td>\n",
       "      <td>-0.302304</td>\n",
       "      <td>-0.479766</td>\n",
       "      <td>-0.077781</td>\n",
       "      <td>0.576017</td>\n",
       "      <td>1.000000</td>\n",
       "      <td>-0.310377</td>\n",
       "      <td>-0.187634</td>\n",
       "      <td>-0.329254</td>\n",
       "      <td>0.110667</td>\n",
       "      <td>-0.132823</td>\n",
       "      <td>0.043621</td>\n",
       "      <td>0.089524</td>\n",
       "      <td>-0.016254</td>\n",
       "      <td>0.090089</td>\n",
       "      <td>-0.013497</td>\n",
       "    </tr>\n",
       "    <tr>\n",
       "      <th>platelet_count</th>\n",
       "      <td>0.122330</td>\n",
       "      <td>0.409424</td>\n",
       "      <td>0.353828</td>\n",
       "      <td>0.387830</td>\n",
       "      <td>-0.002473</td>\n",
       "      <td>-0.202177</td>\n",
       "      <td>-0.310377</td>\n",
       "      <td>1.000000</td>\n",
       "      <td>0.070121</td>\n",
       "      <td>-0.036139</td>\n",
       "      <td>-0.056902</td>\n",
       "      <td>0.042694</td>\n",
       "      <td>0.089093</td>\n",
       "      <td>0.102714</td>\n",
       "      <td>0.078041</td>\n",
       "      <td>0.143232</td>\n",
       "      <td>-0.104004</td>\n",
       "    </tr>\n",
       "    <tr>\n",
       "      <th>platelet_distr_width</th>\n",
       "      <td>0.022260</td>\n",
       "      <td>0.001756</td>\n",
       "      <td>0.068770</td>\n",
       "      <td>0.091718</td>\n",
       "      <td>0.268485</td>\n",
       "      <td>0.094658</td>\n",
       "      <td>-0.187634</td>\n",
       "      <td>0.070121</td>\n",
       "      <td>1.000000</td>\n",
       "      <td>0.233941</td>\n",
       "      <td>0.001142</td>\n",
       "      <td>0.018399</td>\n",
       "      <td>-0.085652</td>\n",
       "      <td>0.015390</td>\n",
       "      <td>0.037808</td>\n",
       "      <td>-0.045928</td>\n",
       "      <td>-0.087467</td>\n",
       "    </tr>\n",
       "    <tr>\n",
       "      <th>mean_platelet_vl</th>\n",
       "      <td>-0.100716</td>\n",
       "      <td>0.284809</td>\n",
       "      <td>0.248323</td>\n",
       "      <td>0.285169</td>\n",
       "      <td>0.038404</td>\n",
       "      <td>-0.189324</td>\n",
       "      <td>-0.329254</td>\n",
       "      <td>-0.036139</td>\n",
       "      <td>0.233941</td>\n",
       "      <td>1.000000</td>\n",
       "      <td>-0.055283</td>\n",
       "      <td>0.052658</td>\n",
       "      <td>0.037840</td>\n",
       "      <td>-0.118462</td>\n",
       "      <td>-0.021988</td>\n",
       "      <td>-0.058788</td>\n",
       "      <td>-0.112433</td>\n",
       "    </tr>\n",
       "    <tr>\n",
       "      <th>neutrophils_percent</th>\n",
       "      <td>0.093870</td>\n",
       "      <td>0.077574</td>\n",
       "      <td>0.162289</td>\n",
       "      <td>0.119252</td>\n",
       "      <td>0.094697</td>\n",
       "      <td>0.149581</td>\n",
       "      <td>0.110667</td>\n",
       "      <td>-0.056902</td>\n",
       "      <td>0.001142</td>\n",
       "      <td>-0.055283</td>\n",
       "      <td>1.000000</td>\n",
       "      <td>-0.981678</td>\n",
       "      <td>-0.557779</td>\n",
       "      <td>0.499188</td>\n",
       "      <td>-0.554208</td>\n",
       "      <td>-0.264797</td>\n",
       "      <td>-0.192329</td>\n",
       "    </tr>\n",
       "    <tr>\n",
       "      <th>lymphocytes_percent</th>\n",
       "      <td>-0.090940</td>\n",
       "      <td>-0.073216</td>\n",
       "      <td>-0.158665</td>\n",
       "      <td>-0.113198</td>\n",
       "      <td>-0.079596</td>\n",
       "      <td>-0.151628</td>\n",
       "      <td>-0.132823</td>\n",
       "      <td>0.042694</td>\n",
       "      <td>0.018399</td>\n",
       "      <td>0.052658</td>\n",
       "      <td>-0.981678</td>\n",
       "      <td>1.000000</td>\n",
       "      <td>0.389408</td>\n",
       "      <td>-0.487495</td>\n",
       "      <td>0.566632</td>\n",
       "      <td>0.164103</td>\n",
       "      <td>0.211099</td>\n",
       "    </tr>\n",
       "    <tr>\n",
       "      <th>mixed_cells_percent</th>\n",
       "      <td>-0.057664</td>\n",
       "      <td>-0.056070</td>\n",
       "      <td>-0.093352</td>\n",
       "      <td>-0.083365</td>\n",
       "      <td>-0.111013</td>\n",
       "      <td>-0.062552</td>\n",
       "      <td>0.043621</td>\n",
       "      <td>0.089093</td>\n",
       "      <td>-0.085652</td>\n",
       "      <td>0.037840</td>\n",
       "      <td>-0.557779</td>\n",
       "      <td>0.389408</td>\n",
       "      <td>1.000000</td>\n",
       "      <td>-0.289566</td>\n",
       "      <td>0.210764</td>\n",
       "      <td>0.565150</td>\n",
       "      <td>0.010148</td>\n",
       "    </tr>\n",
       "    <tr>\n",
       "      <th>neutrophils_count</th>\n",
       "      <td>0.876999</td>\n",
       "      <td>-0.134216</td>\n",
       "      <td>-0.153907</td>\n",
       "      <td>-0.152236</td>\n",
       "      <td>-0.080385</td>\n",
       "      <td>-0.011729</td>\n",
       "      <td>0.089524</td>\n",
       "      <td>0.102714</td>\n",
       "      <td>0.015390</td>\n",
       "      <td>-0.118462</td>\n",
       "      <td>0.499188</td>\n",
       "      <td>-0.487495</td>\n",
       "      <td>-0.289566</td>\n",
       "      <td>1.000000</td>\n",
       "      <td>0.263246</td>\n",
       "      <td>0.437362</td>\n",
       "      <td>0.115951</td>\n",
       "    </tr>\n",
       "    <tr>\n",
       "      <th>lymphocytes_count</th>\n",
       "      <td>0.689196</td>\n",
       "      <td>-0.233978</td>\n",
       "      <td>-0.338160</td>\n",
       "      <td>-0.294044</td>\n",
       "      <td>-0.168477</td>\n",
       "      <td>-0.152329</td>\n",
       "      <td>-0.016254</td>\n",
       "      <td>0.078041</td>\n",
       "      <td>0.037808</td>\n",
       "      <td>-0.021988</td>\n",
       "      <td>-0.554208</td>\n",
       "      <td>0.566632</td>\n",
       "      <td>0.210764</td>\n",
       "      <td>0.263246</td>\n",
       "      <td>1.000000</td>\n",
       "      <td>0.691170</td>\n",
       "      <td>0.348430</td>\n",
       "    </tr>\n",
       "    <tr>\n",
       "      <th>mixed_cells_count</th>\n",
       "      <td>0.715568</td>\n",
       "      <td>-0.200859</td>\n",
       "      <td>-0.273327</td>\n",
       "      <td>-0.253324</td>\n",
       "      <td>-0.199845</td>\n",
       "      <td>-0.106754</td>\n",
       "      <td>0.090089</td>\n",
       "      <td>0.143232</td>\n",
       "      <td>-0.045928</td>\n",
       "      <td>-0.058788</td>\n",
       "      <td>-0.264797</td>\n",
       "      <td>0.164103</td>\n",
       "      <td>0.565150</td>\n",
       "      <td>0.437362</td>\n",
       "      <td>0.691170</td>\n",
       "      <td>1.000000</td>\n",
       "      <td>0.191014</td>\n",
       "    </tr>\n",
       "    <tr>\n",
       "      <th>RBC_dist_width_Percent</th>\n",
       "      <td>0.252208</td>\n",
       "      <td>-0.364396</td>\n",
       "      <td>-0.562710</td>\n",
       "      <td>-0.510445</td>\n",
       "      <td>-0.413033</td>\n",
       "      <td>-0.334053</td>\n",
       "      <td>-0.013497</td>\n",
       "      <td>-0.104004</td>\n",
       "      <td>-0.087467</td>\n",
       "      <td>-0.112433</td>\n",
       "      <td>-0.192329</td>\n",
       "      <td>0.211099</td>\n",
       "      <td>0.010148</td>\n",
       "      <td>0.115951</td>\n",
       "      <td>0.348430</td>\n",
       "      <td>0.191014</td>\n",
       "      <td>1.000000</td>\n",
       "    </tr>\n",
       "  </tbody>\n",
       "</table>\n",
       "</div>"
      ],
      "text/plain": [
       "                        wbc_count  rbc_count  hb_level  hematocrit  \\\n",
       "wbc_count                1.000000  -0.217584 -0.283881   -0.261736   \n",
       "rbc_count               -0.217584   1.000000  0.896557    0.922294   \n",
       "hb_level                -0.283881   0.896557  1.000000    0.968644   \n",
       "hematocrit              -0.261736   0.922294  0.968644    1.000000   \n",
       "mean_cell_volume        -0.150900  -0.017848  0.286931    0.279029   \n",
       "mean_corp_hb            -0.084770  -0.348335  0.023659   -0.101461   \n",
       "mean_cell_hb_conc        0.066981  -0.497615 -0.302304   -0.479766   \n",
       "platelet_count           0.122330   0.409424  0.353828    0.387830   \n",
       "platelet_distr_width     0.022260   0.001756  0.068770    0.091718   \n",
       "mean_platelet_vl        -0.100716   0.284809  0.248323    0.285169   \n",
       "neutrophils_percent      0.093870   0.077574  0.162289    0.119252   \n",
       "lymphocytes_percent     -0.090940  -0.073216 -0.158665   -0.113198   \n",
       "mixed_cells_percent     -0.057664  -0.056070 -0.093352   -0.083365   \n",
       "neutrophils_count        0.876999  -0.134216 -0.153907   -0.152236   \n",
       "lymphocytes_count        0.689196  -0.233978 -0.338160   -0.294044   \n",
       "mixed_cells_count        0.715568  -0.200859 -0.273327   -0.253324   \n",
       "RBC_dist_width_Percent   0.252208  -0.364396 -0.562710   -0.510445   \n",
       "\n",
       "                        mean_cell_volume  mean_corp_hb  mean_cell_hb_conc  \\\n",
       "wbc_count                      -0.150900     -0.084770           0.066981   \n",
       "rbc_count                      -0.017848     -0.348335          -0.497615   \n",
       "hb_level                        0.286931      0.023659          -0.302304   \n",
       "hematocrit                      0.279029     -0.101461          -0.479766   \n",
       "mean_cell_volume                1.000000      0.722231          -0.077781   \n",
       "mean_corp_hb                    0.722231      1.000000           0.576017   \n",
       "mean_cell_hb_conc              -0.077781      0.576017           1.000000   \n",
       "platelet_count                 -0.002473     -0.202177          -0.310377   \n",
       "platelet_distr_width            0.268485      0.094658          -0.187634   \n",
       "mean_platelet_vl                0.038404     -0.189324          -0.329254   \n",
       "neutrophils_percent             0.094697      0.149581           0.110667   \n",
       "lymphocytes_percent            -0.079596     -0.151628          -0.132823   \n",
       "mixed_cells_percent            -0.111013     -0.062552           0.043621   \n",
       "neutrophils_count              -0.080385     -0.011729           0.089524   \n",
       "lymphocytes_count              -0.168477     -0.152329          -0.016254   \n",
       "mixed_cells_count              -0.199845     -0.106754           0.090089   \n",
       "RBC_dist_width_Percent         -0.413033     -0.334053          -0.013497   \n",
       "\n",
       "                        platelet_count  platelet_distr_width  \\\n",
       "wbc_count                     0.122330              0.022260   \n",
       "rbc_count                     0.409424              0.001756   \n",
       "hb_level                      0.353828              0.068770   \n",
       "hematocrit                    0.387830              0.091718   \n",
       "mean_cell_volume             -0.002473              0.268485   \n",
       "mean_corp_hb                 -0.202177              0.094658   \n",
       "mean_cell_hb_conc            -0.310377             -0.187634   \n",
       "platelet_count                1.000000              0.070121   \n",
       "platelet_distr_width          0.070121              1.000000   \n",
       "mean_platelet_vl             -0.036139              0.233941   \n",
       "neutrophils_percent          -0.056902              0.001142   \n",
       "lymphocytes_percent           0.042694              0.018399   \n",
       "mixed_cells_percent           0.089093             -0.085652   \n",
       "neutrophils_count             0.102714              0.015390   \n",
       "lymphocytes_count             0.078041              0.037808   \n",
       "mixed_cells_count             0.143232             -0.045928   \n",
       "RBC_dist_width_Percent       -0.104004             -0.087467   \n",
       "\n",
       "                        mean_platelet_vl  neutrophils_percent  \\\n",
       "wbc_count                      -0.100716             0.093870   \n",
       "rbc_count                       0.284809             0.077574   \n",
       "hb_level                        0.248323             0.162289   \n",
       "hematocrit                      0.285169             0.119252   \n",
       "mean_cell_volume                0.038404             0.094697   \n",
       "mean_corp_hb                   -0.189324             0.149581   \n",
       "mean_cell_hb_conc              -0.329254             0.110667   \n",
       "platelet_count                 -0.036139            -0.056902   \n",
       "platelet_distr_width            0.233941             0.001142   \n",
       "mean_platelet_vl                1.000000            -0.055283   \n",
       "neutrophils_percent            -0.055283             1.000000   \n",
       "lymphocytes_percent             0.052658            -0.981678   \n",
       "mixed_cells_percent             0.037840            -0.557779   \n",
       "neutrophils_count              -0.118462             0.499188   \n",
       "lymphocytes_count              -0.021988            -0.554208   \n",
       "mixed_cells_count              -0.058788            -0.264797   \n",
       "RBC_dist_width_Percent         -0.112433            -0.192329   \n",
       "\n",
       "                        lymphocytes_percent  mixed_cells_percent  \\\n",
       "wbc_count                         -0.090940            -0.057664   \n",
       "rbc_count                         -0.073216            -0.056070   \n",
       "hb_level                          -0.158665            -0.093352   \n",
       "hematocrit                        -0.113198            -0.083365   \n",
       "mean_cell_volume                  -0.079596            -0.111013   \n",
       "mean_corp_hb                      -0.151628            -0.062552   \n",
       "mean_cell_hb_conc                 -0.132823             0.043621   \n",
       "platelet_count                     0.042694             0.089093   \n",
       "platelet_distr_width               0.018399            -0.085652   \n",
       "mean_platelet_vl                   0.052658             0.037840   \n",
       "neutrophils_percent               -0.981678            -0.557779   \n",
       "lymphocytes_percent                1.000000             0.389408   \n",
       "mixed_cells_percent                0.389408             1.000000   \n",
       "neutrophils_count                 -0.487495            -0.289566   \n",
       "lymphocytes_count                  0.566632             0.210764   \n",
       "mixed_cells_count                  0.164103             0.565150   \n",
       "RBC_dist_width_Percent             0.211099             0.010148   \n",
       "\n",
       "                        neutrophils_count  lymphocytes_count  \\\n",
       "wbc_count                        0.876999           0.689196   \n",
       "rbc_count                       -0.134216          -0.233978   \n",
       "hb_level                        -0.153907          -0.338160   \n",
       "hematocrit                      -0.152236          -0.294044   \n",
       "mean_cell_volume                -0.080385          -0.168477   \n",
       "mean_corp_hb                    -0.011729          -0.152329   \n",
       "mean_cell_hb_conc                0.089524          -0.016254   \n",
       "platelet_count                   0.102714           0.078041   \n",
       "platelet_distr_width             0.015390           0.037808   \n",
       "mean_platelet_vl                -0.118462          -0.021988   \n",
       "neutrophils_percent              0.499188          -0.554208   \n",
       "lymphocytes_percent             -0.487495           0.566632   \n",
       "mixed_cells_percent             -0.289566           0.210764   \n",
       "neutrophils_count                1.000000           0.263246   \n",
       "lymphocytes_count                0.263246           1.000000   \n",
       "mixed_cells_count                0.437362           0.691170   \n",
       "RBC_dist_width_Percent           0.115951           0.348430   \n",
       "\n",
       "                        mixed_cells_count  RBC_dist_width_Percent  \n",
       "wbc_count                        0.715568                0.252208  \n",
       "rbc_count                       -0.200859               -0.364396  \n",
       "hb_level                        -0.273327               -0.562710  \n",
       "hematocrit                      -0.253324               -0.510445  \n",
       "mean_cell_volume                -0.199845               -0.413033  \n",
       "mean_corp_hb                    -0.106754               -0.334053  \n",
       "mean_cell_hb_conc                0.090089               -0.013497  \n",
       "platelet_count                   0.143232               -0.104004  \n",
       "platelet_distr_width            -0.045928               -0.087467  \n",
       "mean_platelet_vl                -0.058788               -0.112433  \n",
       "neutrophils_percent             -0.264797               -0.192329  \n",
       "lymphocytes_percent              0.164103                0.211099  \n",
       "mixed_cells_percent              0.565150                0.010148  \n",
       "neutrophils_count                0.437362                0.115951  \n",
       "lymphocytes_count                0.691170                0.348430  \n",
       "mixed_cells_count                1.000000                0.191014  \n",
       "RBC_dist_width_Percent           0.191014                1.000000  "
      ]
     },
     "execution_count": 46,
     "metadata": {},
     "output_type": "execute_result"
    }
   ],
   "source": [
    "subset.corr(numeric_only=True)"
   ]
  },
  {
   "cell_type": "code",
   "execution_count": 49,
   "id": "f8f44bbd-d210-4f8e-86d8-a69786185228",
   "metadata": {},
   "outputs": [
    {
     "data": {
      "text/plain": [
       "<Axes: >"
      ]
     },
     "execution_count": 49,
     "metadata": {},
     "output_type": "execute_result"
    },
    {
     "data": {
      "image/png": "[encoded data removed]",
      "text/plain": [
       "<Figure size 640x480 with 2 Axes>"
      ]
     },
     "metadata": {},
     "output_type": "display_data"
    }
   ],
   "source": [
    "#lets visualize the correlation matrix using seaborn\n",
    "sns.heatmap(subset.corr(numeric_only=True),cmap='coolwarm')"
   ]
  },
  {
   "cell_type": "markdown",
   "id": "980428a8-686e-45e0-9128-445e688e7ad0",
   "metadata": {},
   "source": [
    "Data processing\n",
    "this is done to put the data in an appropriate format before modelling"
   ]
  },
  {
   "cell_type": "code",
   "execution_count": 51,
   "id": "de319782-a5a3-404d-97e9-fea70173aea1",
   "metadata": {},
   "outputs": [],
   "source": [
    "# separate the labels/classes from the features/measurement\n",
    "X=subset.iloc[:,1:]\n",
    "y=subset.iloc[:,0]"
   ]
  },
  {
   "cell_type": "code",
   "execution_count": 52,
   "id": "035811ed-a410-4383-8b87-8eff753ee553",
   "metadata": {},
   "outputs": [
    {
     "data": {
      "text/plain": [
       "(2156, 17)"
      ]
     },
     "execution_count": 52,
     "metadata": {},
     "output_type": "execute_result"
    }
   ],
   "source": [
    "X.shape\n"
   ]
  },
  {
   "cell_type": "code",
   "execution_count": 56,
   "id": "1832dbdf-4c4f-4531-829a-026986862e3f",
   "metadata": {},
   "outputs": [
    {
     "data": {
      "text/plain": [
       "(2156,)"
      ]
     },
     "execution_count": 56,
     "metadata": {},
     "output_type": "execute_result"
    }
   ],
   "source": [
    "y.shape"
   ]
  },
  {
   "cell_type": "markdown",
   "id": "db27af95-a0fc-4762-9276-6d95bc3ade7d",
   "metadata": {},
   "source": [
    "Encode labels\n",
    "\n",
    "The labels for this data are categorical and we therefore have to convert them to numeric forms. This is referred to as encoding. Machine learning models usually require input data to be in numeric forms, hence we encoding the labels."
   ]
  },
  {
   "cell_type": "code",
   "execution_count": 59,
   "id": "354125aa-8784-4fd9-b603-9c4c62552321",
   "metadata": {},
   "outputs": [],
   "source": [
    "#let's encode target labels (y). We will use onehot encoding.\n",
    "from sklearn.preprocessing import LabelEncoder\n",
    "label_encoder=LabelEncoder()\n",
    "label_encoder.fit(y)\n",
    "y=label_encoder.transform(y)\n",
    "labels=label_encoder.classes_"
   ]
  },
  {
   "cell_type": "code",
   "execution_count": 61,
   "id": "9e1f375f-b572-4b41-8d32-2ccf9746b024",
   "metadata": {},
   "outputs": [
    {
     "data": {
      "text/plain": [
       "array(['Non-malaria Infection', 'Severe Malaria', 'Uncomplicated Malaria'],\n",
       "      dtype=object)"
      ]
     },
     "execution_count": 61,
     "metadata": {},
     "output_type": "execute_result"
    }
   ],
   "source": [
    "labels[0:5]"
   ]
  },
  {
   "cell_type": "code",
   "execution_count": 63,
   "id": "7050e3cb-4533-4fd4-871e-659499a634f4",
   "metadata": {},
   "outputs": [
    {
     "data": {
      "text/plain": [
       "array([1, 1, 1, 1, 1])"
      ]
     },
     "execution_count": 63,
     "metadata": {},
     "output_type": "execute_result"
    }
   ],
   "source": [
    "y[0:5]"
   ]
  },
  {
   "cell_type": "code",
   "execution_count": 65,
   "id": "2c4ab1e4-9c21-4786-acd1-52c24c800a97",
   "metadata": {},
   "outputs": [],
   "source": [
    "\n",
    "classes=np.unique(y)\n",
    "y=label_binarize(y,classes=np.unique(y))\n",
    "nclasses=y.shape[1]"
   ]
  },
  {
   "cell_type": "code",
   "execution_count": 67,
   "id": "fe70210c-ebea-4e7f-ba28-9f0c2260af14",
   "metadata": {},
   "outputs": [
    {
     "data": {
      "text/plain": [
       "array([0, 1, 2])"
      ]
     },
     "execution_count": 67,
     "metadata": {},
     "output_type": "execute_result"
    }
   ],
   "source": [
    "classes"
   ]
  },
  {
   "cell_type": "code",
   "execution_count": 69,
   "id": "c6d0283c-f089-4ecf-bc10-ab7fca537a5b",
   "metadata": {},
   "outputs": [
    {
     "data": {
      "text/plain": [
       "3"
      ]
     },
     "execution_count": 69,
     "metadata": {},
     "output_type": "execute_result"
    }
   ],
   "source": [
    "nclasses"
   ]
  },
  {
   "cell_type": "markdown",
   "id": "cd8fab1c-0615-48df-ad00-c1576ea12a9c",
   "metadata": {},
   "source": [
    "Data Splitting\n",
    "\n",
    "Data is split into three: training, validation and test sets\n",
    "-training set is used for training.\n",
    "-validation set is used for evaluating the model during training.\n",
    "-test set is used to test the model after training and tuning has been completed.\n",
    "\n"
   ]
  },
  {
   "cell_type": "code",
   "execution_count": 72,
   "id": "a96a1df3-4dbb-4b54-8bf3-ab7a152db2ad",
   "metadata": {},
   "outputs": [],
   "source": [
    "#split data into training,validation and test sets\n",
    "\n",
    "#split the data into training and test sets\n",
    "from sklearn.model_selection import train_test_split\n",
    "X_train,X_test,y_train,y_test=train_test_split(X,y,test_size=0.2)\n",
    "\n"
   ]
  },
  {
   "cell_type": "code",
   "execution_count": 74,
   "id": "cfb82f1e-cf0a-4ef2-acc5-4bc6e92ae603",
   "metadata": {},
   "outputs": [
    {
     "data": {
      "text/plain": [
       "(1724, 17)"
      ]
     },
     "execution_count": 74,
     "metadata": {},
     "output_type": "execute_result"
    }
   ],
   "source": [
    "X_train.shape"
   ]
  },
  {
   "cell_type": "code",
   "execution_count": 76,
   "id": "c5b87914-266a-4b8d-a777-6cc7419aac8d",
   "metadata": {},
   "outputs": [
    {
     "data": {
      "text/plain": [
       "(1724, 3)"
      ]
     },
     "execution_count": 76,
     "metadata": {},
     "output_type": "execute_result"
    }
   ],
   "source": [
    "y_train.shape"
   ]
  },
  {
   "cell_type": "code",
   "execution_count": 78,
   "id": "91b01479-c6f4-4d08-a17c-6c147697b61b",
   "metadata": {},
   "outputs": [
    {
     "data": {
      "text/plain": [
       "(432, 17)"
      ]
     },
     "execution_count": 78,
     "metadata": {},
     "output_type": "execute_result"
    }
   ],
   "source": [
    "X_test.shape"
   ]
  },
  {
   "cell_type": "code",
   "execution_count": 80,
   "id": "b26325cc-bb5f-4689-b807-fe8d41034409",
   "metadata": {},
   "outputs": [
    {
     "data": {
      "text/plain": [
       "(432, 3)"
      ]
     },
     "execution_count": 80,
     "metadata": {},
     "output_type": "execute_result"
    }
   ],
   "source": [
    "y_test.shape"
   ]
  },
  {
   "cell_type": "markdown",
   "id": "c441609a-d3d4-44bb-9e24-34dcf41e4d0d",
   "metadata": {},
   "source": [
    "Data Normalization\n",
    "\n",
    "Data normalization is done so that the values are in the same range. This will improve the model performance and avoid bias.\n",
    "Normalization is performed separately on each data set. This is done to prevent data leakage.\n"
   ]
  },
  {
   "cell_type": "code",
   "execution_count": 83,
   "id": "eafe21b7-b03b-44e6-8475-7a8f8ddcedb1",
   "metadata": {},
   "outputs": [],
   "source": [
    "### scale the data between 0-1\n",
    "from sklearn.preprocessing import MinMaxScaler\n",
    "min_max_scaler=MinMaxScaler()\n",
    "X_train=min_max_scaler.fit_transform(X_train)\n",
    "X_test=min_max_scaler.fit_transform(X_test)"
   ]
  },
  {
   "cell_type": "code",
   "execution_count": 85,
   "id": "f7265262-04f4-4cd8-9227-a6877dd87352",
   "metadata": {},
   "outputs": [
    {
     "data": {
      "text/plain": [
       "0.18726591760299627"
      ]
     },
     "execution_count": 85,
     "metadata": {},
     "output_type": "execute_result"
    }
   ],
   "source": [
    "X_train[0,0]"
   ]
  },
  {
   "cell_type": "code",
   "execution_count": 87,
   "id": "f893b69f-9bcf-46a0-ba08-0daa3efe8bc1",
   "metadata": {},
   "outputs": [
    {
     "ename": "AttributeError",
     "evalue": "'numpy.ndarray' object has no attribute 'iloc'",
     "output_type": "error",
     "traceback": [
      "\u001b[0;31m---------------------------------------------------------------------------\u001b[0m",
      "\u001b[0;31mAttributeError\u001b[0m                            Traceback (most recent call last)",
      "Cell \u001b[0;32mIn[87], line 1\u001b[0m\n\u001b[0;32m----> 1\u001b[0m X_train\u001b[38;5;241m.\u001b[39miloc[\u001b[38;5;241m0\u001b[39m,\u001b[38;5;241m0\u001b[39m]\n",
      "\u001b[0;31mAttributeError\u001b[0m: 'numpy.ndarray' object has no attribute 'iloc'"
     ]
    }
   ],
   "source": [
    "X_train.iloc[0,0]"
   ]
  },
  {
   "cell_type": "code",
   "execution_count": 89,
   "id": "bab9e31e-bf9b-4e30-967b-df024516aaa0",
   "metadata": {},
   "outputs": [],
   "source": [
    "#Build the Random Forest "
   ]
  },
  {
   "cell_type": "code",
   "execution_count": 97,
   "id": "4067feea-062d-4ec6-bf5c-5cdf7cdb13de",
   "metadata": {},
   "outputs": [
    {
     "ename": "NameError",
     "evalue": "name 'X_train_scaled' is not defined",
     "output_type": "error",
     "traceback": [
      "\u001b[0;31m---------------------------------------------------------------------------\u001b[0m",
      "\u001b[0;31mNameError\u001b[0m                                 Traceback (most recent call last)",
      "Cell \u001b[0;32mIn[97], line 5\u001b[0m\n\u001b[1;32m      3\u001b[0m \u001b[38;5;28;01mfrom\u001b[39;00m \u001b[38;5;21;01msklearn\u001b[39;00m\u001b[38;5;21;01m.\u001b[39;00m\u001b[38;5;21;01mensemble\u001b[39;00m \u001b[38;5;28;01mimport\u001b[39;00m RandomForestClassifier\n\u001b[1;32m      4\u001b[0m clf\u001b[38;5;241m=\u001b[39mRandomForestClassifier()\n\u001b[0;32m----> 5\u001b[0m clf\u001b[38;5;241m.\u001b[39mfit(X_train_scaled,y_train)\n",
      "\u001b[0;31mNameError\u001b[0m: name 'X_train_scaled' is not defined"
     ]
    }
   ],
   "source": [
    "#training phase: create RF classifier\n",
    "\n",
    "from sklearn.ensemble import RandomForestClassifier\n",
    "clf=RandomForestClassifier()\n",
    "clf.fit(X_train_scaled,y_train)"
   ]
  },
  {
   "cell_type": "code",
   "execution_count": 99,
   "id": "fc3fb8b8-5c42-42fd-a1b4-8b75f0ca7837",
   "metadata": {},
   "outputs": [
    {
     "ename": "NameError",
     "evalue": "name 'X_test_scaled' is not defined",
     "output_type": "error",
     "traceback": [
      "\u001b[0;31m---------------------------------------------------------------------------\u001b[0m",
      "\u001b[0;31mNameError\u001b[0m                                 Traceback (most recent call last)",
      "Cell \u001b[0;32mIn[99], line 2\u001b[0m\n\u001b[1;32m      1\u001b[0m \u001b[38;5;66;03m#Testing phase: model prediction\u001b[39;00m\n\u001b[0;32m----> 2\u001b[0m y_pred\u001b[38;5;241m=\u001b[39mclf\u001b[38;5;241m.\u001b[39mpredict(X_test_scaled)\n",
      "\u001b[0;31mNameError\u001b[0m: name 'X_test_scaled' is not defined"
     ]
    }
   ],
   "source": [
    "#Testing phase: model prediction\n",
    "y_pred=clf.predict(X_test_scaled)"
   ]
  },
  {
   "cell_type": "code",
   "execution_count": 101,
   "id": "54c8d83e-706b-4737-8532-d89e999ff1d5",
   "metadata": {},
   "outputs": [
    {
     "ename": "NameError",
     "evalue": "name 'y_pred' is not defined",
     "output_type": "error",
     "traceback": [
      "\u001b[0;31m---------------------------------------------------------------------------\u001b[0m",
      "\u001b[0;31mNameError\u001b[0m                                 Traceback (most recent call last)",
      "Cell \u001b[0;32mIn[101], line 1\u001b[0m\n\u001b[0;32m----> 1\u001b[0m y_pred[\u001b[38;5;241m0\u001b[39m:\u001b[38;5;241m3\u001b[39m]\n",
      "\u001b[0;31mNameError\u001b[0m: name 'y_pred' is not defined"
     ]
    }
   ],
   "source": [
    "y_pred[0:3]"
   ]
  },
  {
   "cell_type": "code",
   "execution_count": 103,
   "id": "2467efea-3c76-4002-86f0-1accac2b3008",
   "metadata": {},
   "outputs": [
    {
     "data": {
      "text/plain": [
       "array([[0, 0, 1],\n",
       "       [1, 0, 0],\n",
       "       [0, 0, 1]])"
      ]
     },
     "execution_count": 103,
     "metadata": {},
     "output_type": "execute_result"
    }
   ],
   "source": [
    "y_test[0:3]"
   ]
  },
  {
   "cell_type": "code",
   "execution_count": 105,
   "id": "2e5a0e82-81f8-4f53-bfbd-257c79452d53",
   "metadata": {},
   "outputs": [
    {
     "data": {
      "text/plain": [
       "3"
      ]
     },
     "execution_count": 105,
     "metadata": {},
     "output_type": "execute_result"
    }
   ],
   "source": [
    "nclasses"
   ]
  },
  {
   "cell_type": "code",
   "execution_count": 107,
   "id": "d1e970fb-7731-466d-bf56-43bb3fc5cb18",
   "metadata": {},
   "outputs": [],
   "source": [
    "#Predict on data\n",
    "#Let's use our trained model to classify some samples which were not included in the training or validation sets. This data is the test set."
   ]
  },
  {
   "cell_type": "markdown",
   "id": "22e96cbe-a2be-4d2d-ae07-a4c7ff41ff2f",
   "metadata": {},
   "source": [
    "Evaluating Model\n",
    "\n"
   ]
  },
  {
   "cell_type": "code",
   "execution_count": null,
   "id": "ead4dee2-2e3d-4b68-b884-f4803c52690b",
   "metadata": {},
   "outputs": [],
   "source": [
    "#import metrics"
   ]
  },
  {
   "cell_type": "code",
   "execution_count": null,
   "id": "5f2e5372-b9bc-441f-af45-eba98ca8ce3f",
   "metadata": {},
   "outputs": [],
   "source": [
    "from sklearn.metrics import balanced_accuracy_score,f1_score,precision_score, recall_score\n",
    "from sklearn.metrics import plot_confusion_matrix"
   ]
  },
  {
   "cell_type": "code",
   "execution_count": null,
   "id": "b83d2d9f-e93e-471b-be25-daf17b66f37a",
   "metadata": {},
   "outputs": [],
   "source": [
    "#balanced accuracy\n",
    "balanced_accuracy=balanced_accuracy_score(y_test,y_pred)\n",
    "balanced_accuracy=round(balanced_accuracy,2)\n",
    "print('balanced accuracy:',balanced_accuracy)"
   ]
  },
  {
   "cell_type": "code",
   "execution_count": null,
   "id": "61bf94b4-9593-4251-bd5b-e5fe4eb7136f",
   "metadata": {},
   "outputs": [],
   "source": [
    "#precision \n",
    "precision=precision_score(y_test,y_pred,average='weighted')\n",
    "precision=round(precision,2)\n",
    "print('precision:',precision)"
   ]
  },
  {
   "cell_type": "code",
   "execution_count": null,
   "id": "6bef3d9d-388b-4a22-81dc-fae3cfcc2ecb",
   "metadata": {},
   "outputs": [],
   "source": [
    "#recall\n",
    "recall=recall_score(y_test,y_pred,average='weighted')\n",
    "recall=round(recall,2)\n",
    "print('recall:',recall)"
   ]
  },
  {
   "cell_type": "code",
   "execution_count": null,
   "id": "e3b03b83-329a-4b52-b94e-d5d391348bec",
   "metadata": {},
   "outputs": [],
   "source": [
    "#confusion matrix\n",
    "disp=plot_confusion_matrix(clf,X_test_scaled,y_test,xticks_rotation='vertical',\n",
    "                     cmap='Blues',display_labels=classes)"
   ]
  },
  {
   "cell_type": "code",
   "execution_count": null,
   "id": "2b42eee0-c60b-486e-b96f-40dd8a26e764",
   "metadata": {},
   "outputs": [],
   "source": [
    "predictions=model.predict(X_test)"
   ]
  },
  {
   "cell_type": "code",
   "execution_count": 140,
   "id": "b18d0824-cb32-4e8c-91b9-077ca210bf5a",
   "metadata": {},
   "outputs": [
    {
     "ename": "NameError",
     "evalue": "name 'predictions' is not defined",
     "output_type": "error",
     "traceback": [
      "\u001b[0;31m---------------------------------------------------------------------------\u001b[0m",
      "\u001b[0;31mNameError\u001b[0m                                 Traceback (most recent call last)",
      "Cell \u001b[0;32mIn[140], line 1\u001b[0m\n\u001b[0;32m----> 1\u001b[0m predictions\u001b[38;5;241m.\u001b[39mshape\n",
      "\u001b[0;31mNameError\u001b[0m: name 'predictions' is not defined"
     ]
    }
   ],
   "source": [
    "predictions.shape"
   ]
  },
  {
   "cell_type": "code",
   "execution_count": null,
   "id": "6a69ec6f-02bf-4e08-af0a-a2cca91abc02",
   "metadata": {},
   "outputs": [],
   "source": [
    "predictions[0]"
   ]
  },
  {
   "cell_type": "code",
   "execution_count": 142,
   "id": "47e2ab7b-853b-42c0-bacc-954e7fdb8497",
   "metadata": {},
   "outputs": [
    {
     "ename": "NameError",
     "evalue": "name 'predictions' is not defined",
     "output_type": "error",
     "traceback": [
      "\u001b[0;31m---------------------------------------------------------------------------\u001b[0m",
      "\u001b[0;31mNameError\u001b[0m                                 Traceback (most recent call last)",
      "Cell \u001b[0;32mIn[142], line 1\u001b[0m\n\u001b[0;32m----> 1\u001b[0m np\u001b[38;5;241m.\u001b[39margmax(predictions[\u001b[38;5;241m0\u001b[39m])\n",
      "\u001b[0;31mNameError\u001b[0m: name 'predictions' is not defined"
     ]
    }
   ],
   "source": [
    "np.argmax(predictions[0])"
   ]
  },
  {
   "cell_type": "code",
   "execution_count": 144,
   "id": "c95586a1-9051-4a1c-8ca2-ee0bfcdf2b9a",
   "metadata": {},
   "outputs": [
    {
     "data": {
      "text/plain": [
       "array(['Non-malaria Infection', 'Severe Malaria', 'Uncomplicated Malaria'],\n",
       "      dtype=object)"
      ]
     },
     "execution_count": 144,
     "metadata": {},
     "output_type": "execute_result"
    }
   ],
   "source": [
    "labels"
   ]
  },
  {
   "cell_type": "code",
   "execution_count": 146,
   "id": "92e53764-8b8c-46f1-ac21-2cbb8191b5f9",
   "metadata": {},
   "outputs": [
    {
     "data": {
      "text/plain": [
       "array([0, 1, 0])"
      ]
     },
     "execution_count": 146,
     "metadata": {},
     "output_type": "execute_result"
    }
   ],
   "source": [
    "y_test[0]"
   ]
  },
  {
   "cell_type": "code",
   "execution_count": 147,
   "id": "88f57eeb-ff72-48f5-8bb4-67ea051d7fb6",
   "metadata": {},
   "outputs": [
    {
     "data": {
      "text/plain": [
       "1"
      ]
     },
     "execution_count": 147,
     "metadata": {},
     "output_type": "execute_result"
    }
   ],
   "source": [
    "np.argmax(y_test[0])"
   ]
  },
  {
   "cell_type": "code",
   "execution_count": 148,
   "id": "35d54c07-9579-42bd-a546-721d1268fb2f",
   "metadata": {},
   "outputs": [
    {
     "ename": "NameError",
     "evalue": "name 'predictions' is not defined",
     "output_type": "error",
     "traceback": [
      "\u001b[0;31m---------------------------------------------------------------------------\u001b[0m",
      "\u001b[0;31mNameError\u001b[0m                                 Traceback (most recent call last)",
      "Cell \u001b[0;32mIn[148], line 1\u001b[0m\n\u001b[0;32m----> 1\u001b[0m \u001b[38;5;28;01mfor\u001b[39;00m index, entry \u001b[38;5;129;01min\u001b[39;00m \u001b[38;5;28menumerate\u001b[39m(predictions [\u001b[38;5;241m0\u001b[39m:\u001b[38;5;241m10\u001b[39m]):\n\u001b[1;32m      2\u001b[0m     \u001b[38;5;28mprint\u001b[39m(\u001b[38;5;124m'\u001b[39m\u001b[38;5;124mpredicted:\u001b[39m\u001b[38;5;132;01m%d\u001b[39;00m\u001b[38;5;124m , actual:\u001b[39m\u001b[38;5;132;01m%d\u001b[39;00m\u001b[38;5;124m'\u001b[39m \u001b[38;5;241m%\u001b[39m (np\u001b[38;5;241m.\u001b[39margmax(entry), np\u001b[38;5;241m.\u001b[39margmax(y_test[index])))\n",
      "\u001b[0;31mNameError\u001b[0m: name 'predictions' is not defined"
     ]
    }
   ],
   "source": [
    "for index, entry in enumerate(predictions [0:10]):\n",
    "    print('predicted:%d , actual:%d' % (np.argmax(entry), np.argmax(y_test[index])))"
   ]
  },
  {
   "cell_type": "markdown",
   "id": "fbff30f9-c065-415c-9939-900f9fa76efc",
   "metadata": {},
   "source": [
    "No compute the accuracy for the model"
   ]
  },
  {
   "cell_type": "code",
   "execution_count": 149,
   "id": "c605dcb0-a42e-4f03-8557-5d4bf6ee03b6",
   "metadata": {},
   "outputs": [
    {
     "ename": "NameError",
     "evalue": "name 'model' is not defined",
     "output_type": "error",
     "traceback": [
      "\u001b[0;31m---------------------------------------------------------------------------\u001b[0m",
      "\u001b[0;31mNameError\u001b[0m                                 Traceback (most recent call last)",
      "Cell \u001b[0;32mIn[149], line 2\u001b[0m\n\u001b[1;32m      1\u001b[0m \u001b[38;5;66;03m#compute accuracy for the model with respect to test data\u001b[39;00m\n\u001b[0;32m----> 2\u001b[0m loss,accuracy\u001b[38;5;241m=\u001b[39mmodel\u001b[38;5;241m.\u001b[39mevaluate(X_test, y_test)\n",
      "\u001b[0;31mNameError\u001b[0m: name 'model' is not defined"
     ]
    }
   ],
   "source": [
    "#compute accuracy for the model with respect to test data\n",
    "loss,accuracy=model.evaluate(X_test, y_test)"
   ]
  },
  {
   "cell_type": "code",
   "execution_count": 151,
   "id": "6b60b174-a8c0-432f-9154-36ae009d3f26",
   "metadata": {},
   "outputs": [
    {
     "ename": "NameError",
     "evalue": "name 'accuracy' is not defined",
     "output_type": "error",
     "traceback": [
      "\u001b[0;31m---------------------------------------------------------------------------\u001b[0m",
      "\u001b[0;31mNameError\u001b[0m                                 Traceback (most recent call last)",
      "Cell \u001b[0;32mIn[151], line 1\u001b[0m\n\u001b[0;32m----> 1\u001b[0m accuracy\n",
      "\u001b[0;31mNameError\u001b[0m: name 'accuracy' is not defined"
     ]
    }
   ],
   "source": [
    "accuracy"
   ]
  },
  {
   "cell_type": "code",
   "execution_count": null,
   "id": "3462d577-434d-4714-b5c7-c1b33334f94b",
   "metadata": {},
   "outputs": [],
   "source": []
  },
  {
   "cell_type": "code",
   "execution_count": null,
   "id": "2ee30562-ead9-4a23-80ba-6e80febd4493",
   "metadata": {},
   "outputs": [],
   "source": []
  },
  {
   "cell_type": "code",
   "execution_count": null,
   "id": "48c656a3-9acc-47ba-8abd-03c8fdb7755c",
   "metadata": {},
   "outputs": [],
   "source": []
  },
  {
   "cell_type": "code",
   "execution_count": null,
   "id": "d18685e9-3bf1-4485-985f-b6a753090185",
   "metadata": {},
   "outputs": [],
   "source": []
  }
 ],
 "metadata": {
  "kernelspec": {
   "display_name": "Python 3 (ipykernel)",
   "language": "python",
   "name": "python3"
  },
  "language_info": {
   "codemirror_mode": {
    "name": "ipython",
    "version": 3
   },
   "file_extension": ".py",
   "mimetype": "text/x-python",
   "name": "python",
   "nbconvert_exporter": "python",
   "pygments_lexer": "ipython3",
   "version": "3.12.4"
  },
  "toc": {
   "base_numbering": 0
  }
 },
 "nbformat": 4,
 "nbformat_minor": 5
}
